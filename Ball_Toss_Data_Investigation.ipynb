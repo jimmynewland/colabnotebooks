{
  "nbformat": 4,
  "nbformat_minor": 0,
  "metadata": {
    "colab": {
      "provenance": [],
      "authorship_tag": "ABX9TyN+ED8Afaymps57rvbuj0Mt",
      "include_colab_link": true
    },
    "kernelspec": {
      "name": "python3",
      "display_name": "Python 3"
    },
    "language_info": {
      "name": "python"
    }
  },
  "cells": [
    {
      "cell_type": "markdown",
      "metadata": {
        "id": "view-in-github",
        "colab_type": "text"
      },
      "source": [
        "<a href=\"https://colab.research.google.com/github/jimmynewland/colabnotebooks/blob/main/Ball_Toss_Data_Investigation.ipynb\" target=\"_parent\"><img src=\"https://colab.research.google.com/assets/colab-badge.svg\" alt=\"Open In Colab\"/></a>"
      ]
    },
    {
      "cell_type": "markdown",
      "source": [
        "#Using CS and DS to Learn Science\n",
        "\n",
        "Bringing both computation and data science tools together in a domain-specific context can actually help students learn the content from the specific subject while building efficacy in the other areas.\n",
        "\n",
        "The goal is to make sure the computer science and data science tools do not increase the cognitive load so much that learning the specific domain knowledge is negatively impacted."
      ],
      "metadata": {
        "id": "h31TPgBLrR91"
      }
    },
    {
      "cell_type": "code",
      "execution_count": null,
      "metadata": {
        "id": "EGAKMP1Aak_A"
      },
      "outputs": [],
      "source": [
        "#@title Import Libraries\n",
        "import pandas as pd # pandas is a data science libary\n",
        "import matplotlib.pyplot as plt # standard plotting librar"
      ]
    },
    {
      "cell_type": "markdown",
      "source": [
        "##Tidy Data\n",
        "\n",
        "This dataset came from tracking the horizontal and vertical position of a ball thrown in an arc.\n",
        "\n",
        "This dataset is 'tidy' because it is ready to plot with no strange or missing values and clearly identified column names.\n",
        "\n",
        "How many columns do we have in the dataset? What sort of data is it? If it matters, do we know what the units might be?\n",
        "\n",
        "We are using pandas which is a very common tool for handling tabular data.\n",
        "\n",
        "This is an attempt to bring good data science pedagogy to bear on learning the basics of motion.\n",
        "\n",
        "The statistical problem solving cycle:\n",
        "* Ask a question that needs data and some stats to answer\n",
        "* Collect new or existing data that can used towards getting the answer\n",
        "* Assess, clean, and organize the data to find a way to get at the answer\n",
        "* Analyze the data using the appropriate computational and statistical tools\n",
        "* Visualize and interpret the data to tell a story that addresses the question\n"
      ],
      "metadata": {
        "id": "SpGW-X-GHhAZ"
      }
    },
    {
      "cell_type": "markdown",
      "source": [
        "##What questions should we answer?\n",
        "\n",
        "Our questions:\n",
        "* Is this ball going the same speed the whole time along the arc?\n",
        "* How is motion parallel to the ground different than the motion perpendicular to the ground?\n",
        "* Can we find a way to measure the gravitational acceleration, $g$?"
      ],
      "metadata": {
        "id": "Iwr8um6ZjII3"
      }
    },
    {
      "cell_type": "code",
      "source": [
        "#@title Load Position, Time, and Speed Data\n",
        "df = pd.read_csv(\"http://thinkingwithcode.com/datascience/hous-coding-ball-toss-data.csv\")\n",
        "df.head()"
      ],
      "metadata": {
        "id": "A73uvBYVbAvi"
      },
      "execution_count": null,
      "outputs": []
    },
    {
      "cell_type": "code",
      "source": [
        "#@title Plot the Horizontal Position vs Vertical Position\n",
        "x_axis = df['x (m)']\n",
        "y_axis = df['y (m)']\n",
        "\n",
        "plt.figure(figsize=(10, 6))\n",
        "plt.title(\"Vertictal vs Horizontal Position\")\n",
        "\n",
        "plt.xlabel(\"x (m)\")\n",
        "plt.ylabel(\"y (m)\")\n",
        "\n",
        "plt.scatter(x_axis,y_axis)\n",
        "\n",
        "plt.show()"
      ],
      "metadata": {
        "id": "5OgbCUS3tZiQ"
      },
      "execution_count": null,
      "outputs": []
    },
    {
      "cell_type": "markdown",
      "source": [
        "## Y vs X is not helpful for us...\n",
        "Note that plotting the horizontal positions on the x-axis and the vertical positions on the y-axis does not produce a plot that helps us answer our questions.\n",
        "\n",
        "We are going to need a position versus time plot for both the horizontal data and the vertical data.\n",
        "\n",
        "First, let's follow good CS pedagogy and make a function instead of just copying and pasting code over and over."
      ],
      "metadata": {
        "id": "CE8X-kwvfXIw"
      }
    },
    {
      "cell_type": "code",
      "source": [
        "#@title makePlot function\n",
        "def makePlot(xAxisLabel: str, yAxisLabel: str, title: str):\n",
        "  \"\"\"Plot a scatter graph.\n",
        "\n",
        "    Keyword arguments:\n",
        "    xAxisLabel -- Exact name (str) of the x-axis data column\n",
        "    yAxisLabel -- Exact name (str) of the y-axis data column\n",
        "    title -- Label (str) for the graph title\n",
        "  \"\"\"\n",
        "  x_axis = df[xAxisLabel]\n",
        "  y_axis = df[yAxisLabel]\n",
        "\n",
        "  plt.figure(figsize=(10, 6))\n",
        "  plt.title(title)\n",
        "  plt.xlabel(xAxisLabel)\n",
        "  plt.ylabel(yAxisLabel)\n",
        "\n",
        "  plt.scatter(x_axis,y_axis)\n",
        "\n",
        "  plt.show()"
      ],
      "metadata": {
        "id": "aTayfRctIso4"
      },
      "execution_count": null,
      "outputs": []
    },
    {
      "cell_type": "code",
      "source": [
        "#@title Plot the Horizontal Position vs Time\n",
        "# Try the makePlot function here. Hint: x-axis is 't (s)' and y-axis is 'x (m)'"
      ],
      "metadata": {
        "id": "HDJZEk8gnD45"
      },
      "execution_count": null,
      "outputs": []
    },
    {
      "cell_type": "code",
      "source": [
        "#@title Plot the Vertical Position vs Time\n",
        "# Try the makePlot function here. Hint: x-axis is 't (s)' and y-axis is 'y (m)'"
      ],
      "metadata": {
        "id": "ZbFlWbKtnjk1"
      },
      "execution_count": null,
      "outputs": []
    },
    {
      "cell_type": "code",
      "source": [
        "#@title Plot the Vertical Speed vs Time\n",
        "# Try the makePlot function here. Hint: x-axis is 't (s)' and y-axis is 'vy (m)'"
      ],
      "metadata": {
        "id": "NBFnPtKvsCRo"
      },
      "execution_count": null,
      "outputs": []
    },
    {
      "cell_type": "markdown",
      "source": [
        "#Inference with Statistics"
      ],
      "metadata": {
        "id": "2VUVOpSj44Ns"
      }
    },
    {
      "cell_type": "markdown",
      "source": [
        "##Linear Regression - Finding Meaning with Slopes\n",
        "\n",
        "When learning motion, slopes of motion graphs can help describe actual physical parameters of a system.\n",
        "\n",
        "For example, if we plot position on the vertical axis and time on the horizontal axis and we get a line, then the slope of that line is the speed of the object.\n",
        "\n",
        "<img src=\"https://thinkingwithcode.com/datascience/constant_speed.png\" width=\"650\">\n",
        "\n",
        "How can we use a common data science tool, the linear regression, to estimate the slope of a line?\n",
        "\n",
        "We can use the `scipy.stats` application programming interface (API) to to perform a linear regression on the horizontal position versus time data from our pandas dataframe.\n",
        "\n",
        "The `lingress` function returns 5 things, in this order:\n",
        "* slope estimate\n",
        "* intercept estimate\n",
        "* correlation coefficient (r-value)\n",
        "* significance measure (p-value)\n",
        "* standard error\n",
        "\n",
        "Once we get the slope, we can interpret the meaning. For an example where position is on the vertical axis and time is on the horizontal axis, the slope of that line is the constant speed of the object.\n",
        "\n",
        "What physical meaning might the vertical intercept have in this example?\n",
        "\n",
        "A note about uncertainty: it is common to report the uncertainty in a measurement using the standard error. That means we report the `value ±  std_err` in the same units as the slope."
      ],
      "metadata": {
        "id": "osZhn7q_SzyC"
      }
    },
    {
      "cell_type": "code",
      "source": [
        "from scipy.stats import linregress\n",
        "\n",
        "t = df['t (s)']\n",
        "x = df['x (m)']\n",
        "vy = df['vy (m/s)']\n",
        "\n",
        "vx, intercept1, r_value1, p_value1, std_err1 = linregress(t,x) # slope is vx\n",
        "ay, intercept2, r_value2, p_value2, std_err2 = linregress(t, vy) # slops is ay"
      ],
      "metadata": {
        "id": "CTnjdPB347RE"
      },
      "execution_count": null,
      "outputs": []
    },
    {
      "cell_type": "code",
      "source": [
        "print(f'vx = {vx:.2f} ± {std_err1:.2f} (m/s)')\n",
        "print(f'ay = {ay:.2f} ± {std_err2:.2f} (m/s^2)')"
      ],
      "metadata": {
        "id": "usy-BiZB5Ejg"
      },
      "execution_count": null,
      "outputs": []
    },
    {
      "cell_type": "markdown",
      "source": [
        "##Let's answer our questions (double click in this box to type)\n",
        "\n",
        "Our questions:\n",
        "* Is this ball going the same speed the whole time along the arc?\n",
        "* How is motion parallel to the ground different than the motion perpendicular to the ground?\n",
        "* Can we find a way to measure the gravitational acceleration, $g$?"
      ],
      "metadata": {
        "id": "qoc402V7wtAs"
      }
    },
    {
      "cell_type": "markdown",
      "source": [
        "This activity was created by <a href=\"http://jimmynewland.com/\">Dr. J. Newland</a>. It was last updated on 2025-10-04.\n",
        "\n",
        "<a href=\"https://thinkingwithcode.com/datascience/balltoss.php\">Ball Toss Data Science Example</a> © 2025 by <a href=\"https://jimmynewland.com\">James Newland</a> is licensed under <a href=\"https://creativecommons.org/licenses/by-nc-nd/4.0/\">CC BY-NC-ND 4.0</a>\n",
        "\n",
        "<img src=\"https://mirrors.creativecommons.org/presskit/icons/cc.svg\" alt=\"\" style=\"max-width: 1em;max-height:1em;margin-left: .2em;\"><img src=\"https://mirrors.creativecommons.org/presskit/icons/by.svg\" alt=\"\" style=\"max-width: 1em;max-height:1em;margin-left: .2em;\"><img src=\"https://mirrors.creativecommons.org/presskit/icons/nc.svg\" alt=\"\" style=\"max-width: 1em;max-height:1em;margin-left: .2em;\"><img src=\"https://mirrors.creativecommons.org/presskit/icons/nd.svg\" alt=\"\" style=\"max-width: 1em;max-height:1em;margin-left: .2em;\">"
      ],
      "metadata": {
        "id": "6WY6audGgGM2"
      }
    }
  ]
}