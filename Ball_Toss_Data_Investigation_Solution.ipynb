{
  "nbformat": 4,
  "nbformat_minor": 0,
  "metadata": {
    "colab": {
      "provenance": [],
      "authorship_tag": "ABX9TyNOaFcuJadIN3+F45VD85BW",
      "include_colab_link": true
    },
    "kernelspec": {
      "name": "python3",
      "display_name": "Python 3"
    },
    "language_info": {
      "name": "python"
    }
  },
  "cells": [
    {
      "cell_type": "markdown",
      "metadata": {
        "id": "view-in-github",
        "colab_type": "text"
      },
      "source": [
        "<a href=\"https://colab.research.google.com/github/jimmynewland/colabnotebooks/blob/main/Ball_Toss_Data_Investigation_Solution.ipynb\" target=\"_parent\"><img src=\"https://colab.research.google.com/assets/colab-badge.svg\" alt=\"Open In Colab\"/></a>"
      ]
    },
    {
      "cell_type": "markdown",
      "source": [
        "#Using CS and DS to Learn Science\n",
        "\n",
        "Bringing both computation and data science tools together in a domain-specific context can actually help students learn the content from the specific subject while building efficacy in the other areas.\n",
        "\n",
        "The goal is to make sure the computer science and data science tools do not increase the cognitive load so much that learning the specific domain knowledge is negatively impacted."
      ],
      "metadata": {
        "id": "h31TPgBLrR91"
      }
    },
    {
      "cell_type": "code",
      "execution_count": 1,
      "metadata": {
        "id": "EGAKMP1Aak_A"
      },
      "outputs": [],
      "source": [
        "#@title Import Libraries\n",
        "import pandas as pd # pandas is a data science libary\n",
        "import matplotlib.pyplot as plt # standard plotting librar"
      ]
    },
    {
      "cell_type": "markdown",
      "source": [
        "##Tidy Data\n",
        "\n",
        "This dataset came from tracking the horizontal and vertical position of a ball thrown in an arc.\n",
        "\n",
        "This dataset is 'tidy' because it is ready to plot with no strange or missing values and clearly identified column names.\n",
        "\n",
        "How many columns do we have in the dataset? What sort of data is it? If it matters, do we know what the units might be?\n",
        "\n",
        "We are using pandas which is a very common tool for handling tabular data.\n",
        "\n",
        "This is an attempt to bring good data science pedagogy to bear on learning the basics of motion.\n",
        "\n",
        "The statistical problem solving cycle:\n",
        "* Ask a question that needs data and some stats to answer\n",
        "* Collect new or existing data that can used towards getting the answer\n",
        "* Assess, clean, and organize the data to find a way to get at the answer\n",
        "* Analyze the data using the appropriate computational and statistical tools\n",
        "* Visualize and interpret the data to tell a story that addresses the question\n"
      ],
      "metadata": {
        "id": "SpGW-X-GHhAZ"
      }
    },
    {
      "cell_type": "markdown",
      "source": [
        "##What questions should we answer?\n",
        "\n",
        "Our questions:\n",
        "* Is this ball going the same speed the whole time along the arc?\n",
        "* How is motion parallel to the ground different than the motion perpendicular to the ground?\n",
        "* Can we find a way to measure the gravitational acceleration, $g$?"
      ],
      "metadata": {
        "id": "Iwr8um6ZjII3"
      }
    },
    {
      "cell_type": "code",
      "source": [
        "#@title Load Position, Time, and Speed Data\n",
        "df = pd.read_csv(\"http://thinkingwithcode.com/datascience/hous-coding-ball-toss-data.csv\")\n",
        "df.head()"
      ],
      "metadata": {
        "colab": {
          "base_uri": "https://localhost:8080/",
          "height": 206
        },
        "id": "A73uvBYVbAvi",
        "outputId": "4c67913d-3450-4ae3-eb0e-b69731332a5e"
      },
      "execution_count": 2,
      "outputs": [
        {
          "output_type": "execute_result",
          "data": {
            "text/plain": [
              "    t (s)   x (m)  y (m)  vy (m/s)\n",
              "0  0.0333  0.0534  0.081     2.180\n",
              "1  0.0667  0.1060  0.148     1.870\n",
              "2  0.1000  0.1590  0.206     1.570\n",
              "3  0.1330  0.2120  0.253     1.260\n",
              "4  0.1670  0.2650  0.289     0.949"
            ],
            "text/html": [
              "\n",
              "  <div id=\"df-ff48f4f1-5488-4b44-9b3f-b9ae0f0267a1\" class=\"colab-df-container\">\n",
              "    <div>\n",
              "<style scoped>\n",
              "    .dataframe tbody tr th:only-of-type {\n",
              "        vertical-align: middle;\n",
              "    }\n",
              "\n",
              "    .dataframe tbody tr th {\n",
              "        vertical-align: top;\n",
              "    }\n",
              "\n",
              "    .dataframe thead th {\n",
              "        text-align: right;\n",
              "    }\n",
              "</style>\n",
              "<table border=\"1\" class=\"dataframe\">\n",
              "  <thead>\n",
              "    <tr style=\"text-align: right;\">\n",
              "      <th></th>\n",
              "      <th>t (s)</th>\n",
              "      <th>x (m)</th>\n",
              "      <th>y (m)</th>\n",
              "      <th>vy (m/s)</th>\n",
              "    </tr>\n",
              "  </thead>\n",
              "  <tbody>\n",
              "    <tr>\n",
              "      <th>0</th>\n",
              "      <td>0.0333</td>\n",
              "      <td>0.0534</td>\n",
              "      <td>0.081</td>\n",
              "      <td>2.180</td>\n",
              "    </tr>\n",
              "    <tr>\n",
              "      <th>1</th>\n",
              "      <td>0.0667</td>\n",
              "      <td>0.1060</td>\n",
              "      <td>0.148</td>\n",
              "      <td>1.870</td>\n",
              "    </tr>\n",
              "    <tr>\n",
              "      <th>2</th>\n",
              "      <td>0.1000</td>\n",
              "      <td>0.1590</td>\n",
              "      <td>0.206</td>\n",
              "      <td>1.570</td>\n",
              "    </tr>\n",
              "    <tr>\n",
              "      <th>3</th>\n",
              "      <td>0.1330</td>\n",
              "      <td>0.2120</td>\n",
              "      <td>0.253</td>\n",
              "      <td>1.260</td>\n",
              "    </tr>\n",
              "    <tr>\n",
              "      <th>4</th>\n",
              "      <td>0.1670</td>\n",
              "      <td>0.2650</td>\n",
              "      <td>0.289</td>\n",
              "      <td>0.949</td>\n",
              "    </tr>\n",
              "  </tbody>\n",
              "</table>\n",
              "</div>\n",
              "    <div class=\"colab-df-buttons\">\n",
              "\n",
              "  <div class=\"colab-df-container\">\n",
              "    <button class=\"colab-df-convert\" onclick=\"convertToInteractive('df-ff48f4f1-5488-4b44-9b3f-b9ae0f0267a1')\"\n",
              "            title=\"Convert this dataframe to an interactive table.\"\n",
              "            style=\"display:none;\">\n",
              "\n",
              "  <svg xmlns=\"http://www.w3.org/2000/svg\" height=\"24px\" viewBox=\"0 -960 960 960\">\n",
              "    <path d=\"M120-120v-720h720v720H120Zm60-500h600v-160H180v160Zm220 220h160v-160H400v160Zm0 220h160v-160H400v160ZM180-400h160v-160H180v160Zm440 0h160v-160H620v160ZM180-180h160v-160H180v160Zm440 0h160v-160H620v160Z\"/>\n",
              "  </svg>\n",
              "    </button>\n",
              "\n",
              "  <style>\n",
              "    .colab-df-container {\n",
              "      display:flex;\n",
              "      gap: 12px;\n",
              "    }\n",
              "\n",
              "    .colab-df-convert {\n",
              "      background-color: #E8F0FE;\n",
              "      border: none;\n",
              "      border-radius: 50%;\n",
              "      cursor: pointer;\n",
              "      display: none;\n",
              "      fill: #1967D2;\n",
              "      height: 32px;\n",
              "      padding: 0 0 0 0;\n",
              "      width: 32px;\n",
              "    }\n",
              "\n",
              "    .colab-df-convert:hover {\n",
              "      background-color: #E2EBFA;\n",
              "      box-shadow: 0px 1px 2px rgba(60, 64, 67, 0.3), 0px 1px 3px 1px rgba(60, 64, 67, 0.15);\n",
              "      fill: #174EA6;\n",
              "    }\n",
              "\n",
              "    .colab-df-buttons div {\n",
              "      margin-bottom: 4px;\n",
              "    }\n",
              "\n",
              "    [theme=dark] .colab-df-convert {\n",
              "      background-color: #3B4455;\n",
              "      fill: #D2E3FC;\n",
              "    }\n",
              "\n",
              "    [theme=dark] .colab-df-convert:hover {\n",
              "      background-color: #434B5C;\n",
              "      box-shadow: 0px 1px 3px 1px rgba(0, 0, 0, 0.15);\n",
              "      filter: drop-shadow(0px 1px 2px rgba(0, 0, 0, 0.3));\n",
              "      fill: #FFFFFF;\n",
              "    }\n",
              "  </style>\n",
              "\n",
              "    <script>\n",
              "      const buttonEl =\n",
              "        document.querySelector('#df-ff48f4f1-5488-4b44-9b3f-b9ae0f0267a1 button.colab-df-convert');\n",
              "      buttonEl.style.display =\n",
              "        google.colab.kernel.accessAllowed ? 'block' : 'none';\n",
              "\n",
              "      async function convertToInteractive(key) {\n",
              "        const element = document.querySelector('#df-ff48f4f1-5488-4b44-9b3f-b9ae0f0267a1');\n",
              "        const dataTable =\n",
              "          await google.colab.kernel.invokeFunction('convertToInteractive',\n",
              "                                                    [key], {});\n",
              "        if (!dataTable) return;\n",
              "\n",
              "        const docLinkHtml = 'Like what you see? Visit the ' +\n",
              "          '<a target=\"_blank\" href=https://colab.research.google.com/notebooks/data_table.ipynb>data table notebook</a>'\n",
              "          + ' to learn more about interactive tables.';\n",
              "        element.innerHTML = '';\n",
              "        dataTable['output_type'] = 'display_data';\n",
              "        await google.colab.output.renderOutput(dataTable, element);\n",
              "        const docLink = document.createElement('div');\n",
              "        docLink.innerHTML = docLinkHtml;\n",
              "        element.appendChild(docLink);\n",
              "      }\n",
              "    </script>\n",
              "  </div>\n",
              "\n",
              "\n",
              "    <div id=\"df-339cff36-122b-448d-9805-fbf22ce77ec1\">\n",
              "      <button class=\"colab-df-quickchart\" onclick=\"quickchart('df-339cff36-122b-448d-9805-fbf22ce77ec1')\"\n",
              "                title=\"Suggest charts\"\n",
              "                style=\"display:none;\">\n",
              "\n",
              "<svg xmlns=\"http://www.w3.org/2000/svg\" height=\"24px\"viewBox=\"0 0 24 24\"\n",
              "     width=\"24px\">\n",
              "    <g>\n",
              "        <path d=\"M19 3H5c-1.1 0-2 .9-2 2v14c0 1.1.9 2 2 2h14c1.1 0 2-.9 2-2V5c0-1.1-.9-2-2-2zM9 17H7v-7h2v7zm4 0h-2V7h2v10zm4 0h-2v-4h2v4z\"/>\n",
              "    </g>\n",
              "</svg>\n",
              "      </button>\n",
              "\n",
              "<style>\n",
              "  .colab-df-quickchart {\n",
              "      --bg-color: #E8F0FE;\n",
              "      --fill-color: #1967D2;\n",
              "      --hover-bg-color: #E2EBFA;\n",
              "      --hover-fill-color: #174EA6;\n",
              "      --disabled-fill-color: #AAA;\n",
              "      --disabled-bg-color: #DDD;\n",
              "  }\n",
              "\n",
              "  [theme=dark] .colab-df-quickchart {\n",
              "      --bg-color: #3B4455;\n",
              "      --fill-color: #D2E3FC;\n",
              "      --hover-bg-color: #434B5C;\n",
              "      --hover-fill-color: #FFFFFF;\n",
              "      --disabled-bg-color: #3B4455;\n",
              "      --disabled-fill-color: #666;\n",
              "  }\n",
              "\n",
              "  .colab-df-quickchart {\n",
              "    background-color: var(--bg-color);\n",
              "    border: none;\n",
              "    border-radius: 50%;\n",
              "    cursor: pointer;\n",
              "    display: none;\n",
              "    fill: var(--fill-color);\n",
              "    height: 32px;\n",
              "    padding: 0;\n",
              "    width: 32px;\n",
              "  }\n",
              "\n",
              "  .colab-df-quickchart:hover {\n",
              "    background-color: var(--hover-bg-color);\n",
              "    box-shadow: 0 1px 2px rgba(60, 64, 67, 0.3), 0 1px 3px 1px rgba(60, 64, 67, 0.15);\n",
              "    fill: var(--button-hover-fill-color);\n",
              "  }\n",
              "\n",
              "  .colab-df-quickchart-complete:disabled,\n",
              "  .colab-df-quickchart-complete:disabled:hover {\n",
              "    background-color: var(--disabled-bg-color);\n",
              "    fill: var(--disabled-fill-color);\n",
              "    box-shadow: none;\n",
              "  }\n",
              "\n",
              "  .colab-df-spinner {\n",
              "    border: 2px solid var(--fill-color);\n",
              "    border-color: transparent;\n",
              "    border-bottom-color: var(--fill-color);\n",
              "    animation:\n",
              "      spin 1s steps(1) infinite;\n",
              "  }\n",
              "\n",
              "  @keyframes spin {\n",
              "    0% {\n",
              "      border-color: transparent;\n",
              "      border-bottom-color: var(--fill-color);\n",
              "      border-left-color: var(--fill-color);\n",
              "    }\n",
              "    20% {\n",
              "      border-color: transparent;\n",
              "      border-left-color: var(--fill-color);\n",
              "      border-top-color: var(--fill-color);\n",
              "    }\n",
              "    30% {\n",
              "      border-color: transparent;\n",
              "      border-left-color: var(--fill-color);\n",
              "      border-top-color: var(--fill-color);\n",
              "      border-right-color: var(--fill-color);\n",
              "    }\n",
              "    40% {\n",
              "      border-color: transparent;\n",
              "      border-right-color: var(--fill-color);\n",
              "      border-top-color: var(--fill-color);\n",
              "    }\n",
              "    60% {\n",
              "      border-color: transparent;\n",
              "      border-right-color: var(--fill-color);\n",
              "    }\n",
              "    80% {\n",
              "      border-color: transparent;\n",
              "      border-right-color: var(--fill-color);\n",
              "      border-bottom-color: var(--fill-color);\n",
              "    }\n",
              "    90% {\n",
              "      border-color: transparent;\n",
              "      border-bottom-color: var(--fill-color);\n",
              "    }\n",
              "  }\n",
              "</style>\n",
              "\n",
              "      <script>\n",
              "        async function quickchart(key) {\n",
              "          const quickchartButtonEl =\n",
              "            document.querySelector('#' + key + ' button');\n",
              "          quickchartButtonEl.disabled = true;  // To prevent multiple clicks.\n",
              "          quickchartButtonEl.classList.add('colab-df-spinner');\n",
              "          try {\n",
              "            const charts = await google.colab.kernel.invokeFunction(\n",
              "                'suggestCharts', [key], {});\n",
              "          } catch (error) {\n",
              "            console.error('Error during call to suggestCharts:', error);\n",
              "          }\n",
              "          quickchartButtonEl.classList.remove('colab-df-spinner');\n",
              "          quickchartButtonEl.classList.add('colab-df-quickchart-complete');\n",
              "        }\n",
              "        (() => {\n",
              "          let quickchartButtonEl =\n",
              "            document.querySelector('#df-339cff36-122b-448d-9805-fbf22ce77ec1 button');\n",
              "          quickchartButtonEl.style.display =\n",
              "            google.colab.kernel.accessAllowed ? 'block' : 'none';\n",
              "        })();\n",
              "      </script>\n",
              "    </div>\n",
              "\n",
              "    </div>\n",
              "  </div>\n"
            ],
            "application/vnd.google.colaboratory.intrinsic+json": {
              "type": "dataframe",
              "variable_name": "df",
              "summary": "{\n  \"name\": \"df\",\n  \"rows\": 19,\n  \"fields\": [\n    {\n      \"column\": \"t (s)\",\n      \"properties\": {\n        \"dtype\": \"number\",\n        \"std\": 0.18756449042975973,\n        \"min\": 0.0333,\n        \"max\": 0.633,\n        \"num_unique_values\": 19,\n        \"samples\": [\n          0.0333,\n          0.2,\n          0.4\n        ],\n        \"semantic_type\": \"\",\n        \"description\": \"\"\n      }\n    },\n    {\n      \"column\": \"x (m)\",\n      \"properties\": {\n        \"dtype\": \"number\",\n        \"std\": 0.30269894371522965,\n        \"min\": 0.0534,\n        \"max\": 1.02,\n        \"num_unique_values\": 19,\n        \"samples\": [\n          0.0534,\n          0.319,\n          0.64\n        ],\n        \"semantic_type\": \"\",\n        \"description\": \"\"\n      }\n    },\n    {\n      \"column\": \"y (m)\",\n      \"properties\": {\n        \"dtype\": \"number\",\n        \"std\": 0.18091043840847382,\n        \"min\": -0.28,\n        \"max\": 0.338,\n        \"num_unique_values\": 19,\n        \"samples\": [\n          0.081,\n          0.316,\n          0.261\n        ],\n        \"semantic_type\": \"\",\n        \"description\": \"\"\n      }\n    },\n    {\n      \"column\": \"vy (m/s)\",\n      \"properties\": {\n        \"dtype\": \"number\",\n        \"std\": 1.7558415853227016,\n        \"min\": -3.46,\n        \"max\": 2.18,\n        \"num_unique_values\": 19,\n        \"samples\": [\n          2.18,\n          0.654,\n          -1.22\n        ],\n        \"semantic_type\": \"\",\n        \"description\": \"\"\n      }\n    }\n  ]\n}"
            }
          },
          "metadata": {},
          "execution_count": 2
        }
      ]
    },
    {
      "cell_type": "code",
      "source": [
        "#@title Plot the Horizontal Position vs Vertical Position\n",
        "x_axis = df['x (m)']\n",
        "y_axis = df['y (m)']\n",
        "\n",
        "plt.figure(figsize=(10, 6))\n",
        "plt.title(\"Vertictal vs Horizontal Position\")\n",
        "\n",
        "plt.xlabel(\"x (m)\")\n",
        "plt.ylabel(\"y (m)\")\n",
        "\n",
        "plt.scatter(x_axis,y_axis)\n",
        "\n",
        "plt.show()"
      ],
      "metadata": {
        "colab": {
          "base_uri": "https://localhost:8080/",
          "height": 564
        },
        "id": "5OgbCUS3tZiQ",
        "outputId": "a9799867-1063-494c-8ec6-c27654c8db78"
      },
      "execution_count": 3,
      "outputs": [
        {
          "output_type": "display_data",
          "data": {
            "text/plain": [
              "<Figure size 1000x600 with 1 Axes>"
            ],
            "image/png": "[encoded data removed]"
          },
          "metadata": {}
        }
      ]
    },
    {
      "cell_type": "code",
      "source": [
        "def makePlot(xAxisLabel, yAxisLabel,title):\n",
        "  x_axis = df[xAxisLabel]\n",
        "  y_axis = df[yAxisLabel]\n",
        "\n",
        "  plt.figure(figsize=(10, 6))\n",
        "  plt.title(title)\n",
        "  plt.xlabel(xAxisLabel)\n",
        "  plt.ylabel(yAxisLabel)\n",
        "\n",
        "  plt.scatter(x_axis,y_axis)\n",
        "\n",
        "  plt.show()"
      ],
      "metadata": {
        "id": "aTayfRctIso4"
      },
      "execution_count": 4,
      "outputs": []
    },
    {
      "cell_type": "code",
      "source": [
        "#@title Plot the Horizontal Position vs Time\n",
        "makePlot('t (s)', 'x (m)', 'Horizontal Position vs Time')"
      ],
      "metadata": {
        "colab": {
          "base_uri": "https://localhost:8080/",
          "height": 564
        },
        "id": "HDJZEk8gnD45",
        "outputId": "4a80e612-990c-4acf-a0c0-b47a23d747c1"
      },
      "execution_count": 5,
      "outputs": [
        {
          "output_type": "display_data",
          "data": {
            "text/plain": [
              "<Figure size 1000x600 with 1 Axes>"
            ],
            "image/png": "[encoded data removed]"
          },
          "metadata": {}
        }
      ]
    },
    {
      "cell_type": "code",
      "source": [
        "#@title Plot the Vertical Position vs Time\n",
        "makePlot('t (s)', 'y (m)', 'Horizontal Position vs Time')"
      ],
      "metadata": {
        "colab": {
          "base_uri": "https://localhost:8080/",
          "height": 564
        },
        "id": "ZbFlWbKtnjk1",
        "outputId": "18869321-8d97-43a2-8708-04c319c0cbba"
      },
      "execution_count": 6,
      "outputs": [
        {
          "output_type": "display_data",
          "data": {
            "text/plain": [
              "<Figure size 1000x600 with 1 Axes>"
            ],
            "image/png": "[encoded data removed]"
          },
          "metadata": {}
        }
      ]
    },
    {
      "cell_type": "code",
      "source": [
        "#@title Plot the Vertical Speed vs Time\n",
        "makePlot('t (s)', 'vy (m/s)', 'Horizontal Position vs Time')"
      ],
      "metadata": {
        "colab": {
          "base_uri": "https://localhost:8080/",
          "height": 564
        },
        "id": "NBFnPtKvsCRo",
        "outputId": "63422d4f-2c9e-4c22-c10e-7043c278873b"
      },
      "execution_count": 7,
      "outputs": [
        {
          "output_type": "display_data",
          "data": {
            "text/plain": [
              "<Figure size 1000x600 with 1 Axes>"
            ],
            "image/png": "[encoded data removed]"
          },
          "metadata": {}
        }
      ]
    },
    {
      "cell_type": "markdown",
      "source": [
        "#Inference with Statistics"
      ],
      "metadata": {
        "id": "2VUVOpSj44Ns"
      }
    },
    {
      "cell_type": "code",
      "source": [
        "from scipy.stats import linregress\n",
        "\n",
        "t = df['t (s)']\n",
        "x = df['x (m)']\n",
        "vy = df['vy (m/s)']\n",
        "\n",
        "vx, intercept1, r_value1, p_value1, std_err1 = linregress(t,x)\n",
        "ay, intercept2, r_value2, p_value2, std_err2 = linregress(t, vy)"
      ],
      "metadata": {
        "id": "CTnjdPB347RE"
      },
      "execution_count": 8,
      "outputs": []
    },
    {
      "cell_type": "code",
      "source": [
        "print(f'v_x = {v_x:.2f} (m/s) & a_y = {a_y:.2f} (m/s^2)')"
      ],
      "metadata": {
        "colab": {
          "base_uri": "https://localhost:8080/",
          "height": 141
        },
        "id": "usy-BiZB5Ejg",
        "outputId": "c462413a-1262-4dd9-f469-8022a8ff1544"
      },
      "execution_count": 9,
      "outputs": [
        {
          "output_type": "error",
          "ename": "NameError",
          "evalue": "name 'v_x' is not defined",
          "traceback": [
            "\u001b[0;31m---------------------------------------------------------------------------\u001b[0m",
            "\u001b[0;31mNameError\u001b[0m                                 Traceback (most recent call last)",
            "\u001b[0;32m/tmp/ipython-input-3304200881.py\u001b[0m in \u001b[0;36m<cell line: 0>\u001b[0;34m()\u001b[0m\n\u001b[0;32m----> 1\u001b[0;31m \u001b[0mprint\u001b[0m\u001b[0;34m(\u001b[0m\u001b[0;34mf'v_x = {v_x:.2f} (m/s) & a_y = {a_y:.2f} (m/s^2)'\u001b[0m\u001b[0;34m)\u001b[0m\u001b[0;34m\u001b[0m\u001b[0;34m\u001b[0m\u001b[0m\n\u001b[0m",
            "\u001b[0;31mNameError\u001b[0m: name 'v_x' is not defined"
          ]
        }
      ]
    },
    {
      "cell_type": "markdown",
      "source": [
        "##Let's answer our questions\n",
        "\n",
        "Our questions:\n",
        "* Is this ball going the same speed the whole time along the arc?\n",
        "* How is motion parallel to the ground different than the motion perpendicular to the ground?\n",
        "* Can we find a way to measure the gravitational acceleration, $g$?"
      ],
      "metadata": {
        "id": "qoc402V7wtAs"
      }
    }
  ]
}