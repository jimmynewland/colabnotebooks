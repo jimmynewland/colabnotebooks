{
 "cells": [
  {
   "cell_type": "markdown",
   "metadata": {
    "colab_type": "text",
    "id": "view-in-github"
   },
   "source": [
    "<a href=\"https://colab.research.google.com/github/jimmynewland/colabnotebooks/blob/main/Equivalent_Width_Spectroscopy_Lab_Student.ipynb\" target=\"_parent\"><img src=\"https://colab.research.google.com/assets/colab-badge.svg\" alt=\"Open In Colab\"/></a>"
   ]
  },
  {
   "cell_type": "markdown",
   "metadata": {
    "id": "KB2vZxdmLxG6"
   },
   "source": [
    "# Searching for Europium using Stellar Spectroscopy\n",
    "This activity lets you explore how to find the relative abundance of a given element using the spectral features in starlight. The spectra used here were collected by a teacher team in the summer of 2019 at the McDonald Observatory using the Sandiford Echelle Spectrograph attached to the 2.1 meter Otto Struve Telescope. \n",
    "\n",
    "These spectra are part of a larger project to collect data on evolved Sun-like stars with low abundances of the lanthanide elements. For more information on this class of stars, see the [PASTEL catalog](https://vizier.u-strasbg.fr/viz-bin/VizieR?-source=B/pastel) and the original paper on the PASTEL catalog [doi: 10.1051/0004-6361/201014247](http://doi.org/10.1051/0004-6361/201014247)."
   ]
  },
  {
   "cell_type": "markdown",
   "metadata": {
    "id": "pICuGv9RGtz7"
   },
   "source": [
    "# Using Google Colab\n",
    "This assignment combines formatted text and code in one place. This system is based on the stand-alone Jupyter Notebook system but is running on Google Drive. Google calls this the Google Colab Notebook. We write text, equations, and such but also run blocks of Python code all together or individually.\n",
    "\n",
    "Go ahead and double click the code block below and change the message. Don't remove the single quotes (`' '`) around your message."
   ]
  },
  {
   "cell_type": "code",
   "execution_count": 1,
   "metadata": {
    "colab": {
     "base_uri": "https://localhost:8080/"
    },
    "id": "BnK84KYOGkTX",
    "outputId": "60a85d61-5d32-4b12-ff3e-5ad8c00d3802"
   },
   "outputs": [
    {
     "name": "stdout",
     "output_type": "stream",
     "text": [
      "Hello World!\n"
     ]
    }
   ],
   "source": [
    "# This is a Python block\n",
    "\n",
    "# Here is a variable.\n",
    "message = 'Hello World!'\n",
    "\n",
    "# This line of Python will print the message when you hit the play button.\n",
    "print(message)"
   ]
  },
  {
   "cell_type": "markdown",
   "metadata": {
    "id": "dWKaYna-FiCq"
   },
   "source": [
    "## Who are you?\n",
    "This is a text block. It allows you to write text but doesn't run Python code. Go ahead and put all your information in this block so we know who is completing the assignment.\n",
    "\n",
    "**Double click here and put your name(s), the date, and course information.**\n",
    "\n",
    "Answer:"
   ]
  },
  {
   "cell_type": "markdown",
   "metadata": {
    "id": "oM7uUsh3hAO7"
   },
   "source": [
    "# Spectroscopy"
   ]
  },
  {
   "cell_type": "markdown",
   "metadata": {
    "id": "Yx0JvZDqNfOz"
   },
   "source": [
    "<img src=\"https://openstax.org/resources/463dc6b891027044760b893bb856330b227362a5\" width=\"640\"/>\n",
    "\n",
    "Light from objects in space can tell us a lot about the object. If we use that light to do spectroscopy, we can determine the temperature of the object, the nature and speed of its motion, and we can find out what it's made of. We will explore the chemical makeup of some stars in this project.\n",
    "\n",
    "If you need some background on what a spectrum is and what it can do for astronomers, check out this [link](https://openstax.org/books/astronomy/pages/5-3-spectroscopy-in-astronomy)."
   ]
  },
  {
   "cell_type": "markdown",
   "metadata": {
    "id": "5cv6pQ4IO_MF"
   },
   "source": [
    "## Question 0\n",
    "**Double click here to answer. How does a spectrometer or spectrograph turn starlight into colors? You can use the link above for a hint.**\n",
    "\n",
    "Answer: "
   ]
  },
  {
   "cell_type": "markdown",
   "metadata": {
    "id": "k-kAlcz0Kj2X"
   },
   "source": [
    "## The Sandiford Echelle Spectrograph\n",
    "\n",
    "The spectra we are analyzing were collected using the historic Otto Struve Telescope at the McDonald Observatory with the Sandiford Echelle Spectrometer.\n",
    "\n",
    "<img src=\"https://i1.wp.com/www.jimmynewland.com/wp/wp-content/uploads/2019/12/IMG_2079-scaled.jpeg\" width=\"640\" />"
   ]
  },
  {
   "cell_type": "markdown",
   "metadata": {
    "id": "V1ONbBi1NJDT"
   },
   "source": [
    "## What is a Spectrum?\n",
    "This is the spectrum of a star. The y-axis represents the amount of light and the x-axis represents the wavelength of the particular feature. Spectroscopy can tell us objects in space. For instance, using nothing more than the light from the star and some math, you can get a sense of the relative amount of a particular element in a star's atmosphere by looking at the absorption line. That is what we are doing today.\n",
    "\n",
    "<img src=\"https://i0.wp.com/jimmynewland.com/astronomy/pastel/iraf-hd141531.png\" width=\"640\" />\n",
    "\n",
    "When one star has more of an element in its atmosphere than another, the absorption line or dips in the light will be deeper because those atoms took some of the light leaving the star and absorbed it so those photons won't make it to us.\n",
    "\n",
    "Notice the brightness varies by wavelength. That is how we are able to look for the signature of particular elements. Specific elements absorb star light at only specific wavelengths. The dips are the fingerprints of the element. For our data, the units are really strange. Flux is a unit of power which is energy per unit time. Here our flux is relative, this means 1.0 would be the brightest wavelength of light from the star and the dips are where the light is less bright because that wavelength of light is being absorbed.\n",
    "\n",
    "You will use code to analyze some absorption features for a few stars. We are looking for the elements nickel and europium."
   ]
  },
  {
   "cell_type": "markdown",
   "metadata": {
    "id": "YBQHR6bqTus0"
   },
   "source": [
    "# Searching for Europium\n",
    "\n",
    "Elements beyond lithium on the periodic table are produced by stars. Some of the heaviest elements come from the most awesome stellar explosions. Supernovae and kilonovae can make lots of the heavy atoms at once. After the debris from those explosions gets swept up in new stars, these atoms can be found floating around in the newer star.\n",
    "<img src=\"https://upload.wikimedia.org/wikipedia/commons/thumb/3/31/Nucleosynthesis_periodic_table.svg/2880px-Nucleosynthesis_periodic_table.svg.png\" width=640 />\n",
    "\n",
    "The spectra we are analyzing here are part of a stellar survey looking for the presence of the lanthanide elements. One element, europium, has a signature that can seen using spectroscopy.\n",
    "\n",
    "<img src=\"https://i2.wp.com/www.jimmynewland.com/wp/wp-content/uploads/2019/12/Screen-Shot-2019-12-29-at-11.30.51-AM.png?resize=768%2C459&ssl=1\" width=640 />\n",
    "\n",
    "5 stellar spectra are stored in a Google spreadsheet and you are going to use code to access, analyze, and plot the data. You will compare how much europium these stars have by using the nickel absorption line as a measuring stick."
   ]
  },
  {
   "cell_type": "markdown",
   "metadata": {
    "id": "Y05C-hGcF59t"
   },
   "source": [
    "# Allowing your code to access your Google Drive\n",
    "Start by saving a copy of the [data from the spreadsheet](https://docs.google.com/spreadsheets/d/e/2PACX-1vSvozaTH8wjxtIfXuS3cxDlypNQVePOHltom1jmJosvPWdLVD3daMIAFGZ_H9-COOe9W8RJMzJS2B8c/pubhtml) to your own Google Drive. If you are doing this as a group, make sure the person with the copy of the data shares access with everyone in the group so everyone can access the data.\n",
    "\n",
    "Click the run icon for ***each*** block of code to make it run.\n",
    "\n",
    "The block below asks you to click and link, and copy and paste a verification code to allow your code to access your Google Drive so we can open the spreadsheet containing all the data for our target stars."
   ]
  },
  {
   "cell_type": "code",
   "execution_count": 2,
   "metadata": {
    "id": "8NGQUjqxNjI7"
   },
   "outputs": [],
   "source": [
    "# Allow for access to Google Sheets dataset\n",
    "from google.colab import auth\n",
    "auth.authenticate_user()\n",
    "import gspread\n",
    "from oauth2client.client import GoogleCredentials\n",
    "gc = gspread.authorize(GoogleCredentials.get_application_default())"
   ]
  },
  {
   "cell_type": "markdown",
   "metadata": {
    "id": "KhdTmUmaI75J"
   },
   "source": [
    "**_Be sure to replace the Google Sheets URL with a link to your copy of the spreadsheet._**"
   ]
  },
  {
   "cell_type": "code",
   "execution_count": 3,
   "metadata": {
    "id": "rWqfSIVZPcs8"
   },
   "outputs": [],
   "source": [
    "# Put the URL for your copy of the Google Sheet here.\n",
    "wb = gc.open_by_url('https://docs.google.com/spreadsheets/d/1ns1t3TZBdeFexAfBa6DVSUkqKW6g7Gz2I48RrMmRwbM/edit#gid=1134205444')"
   ]
  },
  {
   "cell_type": "markdown",
   "metadata": {
    "id": "Djx8ND45UZC-"
   },
   "source": [
    "# Installing SpecUtils"
   ]
  },
  {
   "cell_type": "markdown",
   "metadata": {
    "id": "H714D90-UhlB"
   },
   "source": [
    "This step imports a spectroscopy library into Google Colab. It's possible that you will need to select the menu item ***`Runtime->Restart and Run All`*** after this step finishes for the first time. This is only true when you first start the workbook. Yes it is annoying."
   ]
  },
  {
   "cell_type": "code",
   "execution_count": 4,
   "metadata": {
    "colab": {
     "base_uri": "https://localhost:8080/"
    },
    "id": "94tbEiMbut0a",
    "outputId": "097f628e-7023-48c5-8e93-2307004951dd"
   },
   "outputs": [
    {
     "name": "stdout",
     "output_type": "stream",
     "text": [
      "Requirement already satisfied: specutils in /usr/local/lib/python3.6/dist-packages (1.1)\n",
      "Requirement already satisfied: scipy in /usr/local/lib/python3.6/dist-packages (from specutils) (1.4.1)\n",
      "Requirement already satisfied: gwcs>=0.12 in /usr/local/lib/python3.6/dist-packages (from specutils) (0.15.0)\n",
      "Requirement already satisfied: asdf>=2.5 in /usr/local/lib/python3.6/dist-packages (from specutils) (2.7.1)\n",
      "Requirement already satisfied: astropy>=4.0 in /usr/local/lib/python3.6/dist-packages (from specutils) (4.1)\n",
      "Requirement already satisfied: numpy>=1.13.3 in /usr/local/lib/python3.6/dist-packages (from scipy->specutils) (1.18.5)\n",
      "Requirement already satisfied: jsonschema<4,>=3.0.2 in /usr/local/lib/python3.6/dist-packages (from asdf>=2.5->specutils) (3.2.0)\n",
      "Requirement already satisfied: pyyaml>=3.10 in /usr/local/lib/python3.6/dist-packages (from asdf>=2.5->specutils) (3.13)\n",
      "Requirement already satisfied: semantic-version>=2.8 in /usr/local/lib/python3.6/dist-packages (from asdf>=2.5->specutils) (2.8.5)\n",
      "Requirement already satisfied: importlib-metadata; python_version < \"3.8\" in /usr/local/lib/python3.6/dist-packages (from jsonschema<4,>=3.0.2->asdf>=2.5->specutils) (2.0.0)\n",
      "Requirement already satisfied: attrs>=17.4.0 in /usr/local/lib/python3.6/dist-packages (from jsonschema<4,>=3.0.2->asdf>=2.5->specutils) (20.3.0)\n",
      "Requirement already satisfied: six>=1.11.0 in /usr/local/lib/python3.6/dist-packages (from jsonschema<4,>=3.0.2->asdf>=2.5->specutils) (1.15.0)\n",
      "Requirement already satisfied: setuptools in /usr/local/lib/python3.6/dist-packages (from jsonschema<4,>=3.0.2->asdf>=2.5->specutils) (50.3.2)\n",
      "Requirement already satisfied: pyrsistent>=0.14.0 in /usr/local/lib/python3.6/dist-packages (from jsonschema<4,>=3.0.2->asdf>=2.5->specutils) (0.17.3)\n",
      "Requirement already satisfied: zipp>=0.5 in /usr/local/lib/python3.6/dist-packages (from importlib-metadata; python_version < \"3.8\"->jsonschema<4,>=3.0.2->asdf>=2.5->specutils) (3.4.0)\n"
     ]
    }
   ],
   "source": [
    "# Install SpecUtils using pip\n",
    "!pip install specutils"
   ]
  },
  {
   "cell_type": "markdown",
   "metadata": {
    "id": "tCdT4bJrHAdJ"
   },
   "source": [
    "# Importing NumPy and MatPlotLib"
   ]
  },
  {
   "cell_type": "markdown",
   "metadata": {
    "id": "GNul1UE6U_Gc"
   },
   "source": [
    "The *import* step is different than installing. Here libraries already a part of Google Colab are made available to this workbook."
   ]
  },
  {
   "cell_type": "code",
   "execution_count": 5,
   "metadata": {
    "id": "i7sBClwHN1xU"
   },
   "outputs": [],
   "source": [
    "# NumPy is a common library for handling mathy things.\n",
    "import numpy as np\n",
    "\n",
    "# SciPy allows for things like interpolation and curve fitting.\n",
    "from scipy.interpolate import make_interp_spline, BSpline\n",
    "\n",
    "# MatPlotLib is the most common way to visualize data in Python.\n",
    "import matplotlib.pyplot as plt\n",
    "plt.style.use('seaborn-talk')\n",
    "\n",
    "# MatPlotLib tools for drawing on plots.\n",
    "import matplotlib.transforms as mtransforms\n",
    "from matplotlib.collections import PatchCollection\n",
    "from matplotlib.patches import Rectangle"
   ]
  },
  {
   "cell_type": "code",
   "execution_count": 6,
   "metadata": {
    "id": "5G7ldiU_wVQJ"
   },
   "outputs": [],
   "source": [
    "# AstroPy allows Python to perform common astronomical tasks.\n",
    "from astropy.io import fits\n",
    "from astropy import units as u\n",
    "from astropy.visualization import quantity_support\n",
    "quantity_support()\n",
    "from astropy.utils.data import download_file"
   ]
  },
  {
   "cell_type": "markdown",
   "metadata": {
    "id": "iPhFgTFQJU65"
   },
   "source": [
    "#### ***If you get an error here the first time after installing specutils, select the 'Runtime->Restart and run all' menu item and try again.***"
   ]
  },
  {
   "cell_type": "code",
   "execution_count": 7,
   "metadata": {
    "id": "gfqe8qRGuSjV"
   },
   "outputs": [],
   "source": [
    "# Here we access the parts of specutils we'll need.\n",
    "from specutils import Spectrum1D\n",
    "from specutils import SpectralRegion\n",
    "from specutils.analysis import equivalent_width\n",
    "from specutils.analysis import fwhm"
   ]
  },
  {
   "cell_type": "markdown",
   "metadata": {
    "id": "mQGP7QOXHIka"
   },
   "source": [
    "# Copying the Data into Your Code"
   ]
  },
  {
   "cell_type": "markdown",
   "metadata": {
    "id": "v91XST8gWqxG"
   },
   "source": [
    "Each sheet in the spreadsheet contains the data for one star.  Use the example for opening the first sheet to open all 5. When we plot a spectrum, the wavelength values are plotted along the x-axis and the flux or amount of light from the star is plotted along the y-axis. The data from sheet1 is stored in 2 lists. One is called **`wave1`** and contains the wavelengths for the x-axis stored as Angstroms. The other is called **`flux1`** and contains the data for the y-axis. The last variable you need for each star is a name to use as a label. You can see **`label1`** is the string **`'HD141531'`**.\n",
    "\n",
    "The star names are:\n",
    "*   **`HD141531`**\n",
    "*   **`HD165195`**\n",
    "*   **`TYC5562-00446-1`**\n",
    "*   **`TYC5701-00197-1`**\n",
    "*   **`V*SX_Her`**\n",
    "\n",
    "**Double click the code block to edit it and write the code for the other stars.**\n",
    "\n"
   ]
  },
  {
   "cell_type": "code",
   "execution_count": 8,
   "metadata": {
    "id": "L6I4X7Vr3otq"
   },
   "outputs": [],
   "source": [
    "sheet = wb.worksheet('sheet1')\n",
    "data = np.array(sheet.get_all_values()[1:])\n",
    "data = data.astype(np.float)\n",
    "wave1 = data[:,0]\n",
    "flux1 = data[:,1]\n",
    "label1 = 'HD141531'\n",
    "\n",
    "# Put the code to fill the other wave, flux, and label variables here"
   ]
  },
  {
   "cell_type": "markdown",
   "metadata": {
    "id": "tNYRUnLOdDdA"
   },
   "source": [
    "## Question 1\n",
    "**Double click to answer the question. If these spectra run from 6643 Å to 6646 Å, what color from the visible spectrum would the light appear? You can assume the visible spectrum runs from 300 nm to 700 nm. Note: 10 nm = 1 Å.**\n",
    "\n",
    "Answer:\n",
    "\n"
   ]
  },
  {
   "cell_type": "markdown",
   "metadata": {
    "id": "aCjEgz14HQfI"
   },
   "source": [
    "# Plotting the Spectrum of Each Star"
   ]
  },
  {
   "cell_type": "code",
   "execution_count": 9,
   "metadata": {
    "id": "sH7PvaEYAVXo"
   },
   "outputs": [],
   "source": [
    "def interp(w, f):\n",
    "    \"\"\"This function interpolates a spectrum to make them smoother when plotting. \n",
    "    You won't need to change anything here but you will need to run the block\n",
    "    so the notebook learns this function and can use it later.\n",
    "    \"\"\"\n",
    "    wInterp = np.linspace(w.min(),w.max(), 300) \n",
    "    spl = make_interp_spline(w, f)\n",
    "    fInterp = spl(wInterp)\n",
    "    return wInterp, fInterp"
   ]
  },
  {
   "cell_type": "markdown",
   "metadata": {
    "id": "1JMhoJOzZyne"
   },
   "source": [
    "Add the interpolation step for the other stars using the variable names from your block above. Note the strange Python syntax on the left of the <code>**=**</code> symbol. The interp functions returns 2 chunks of data and not just one. This is called a tuple. Cool but weird.\n",
    "Also, the <code>**=**</code> does **not** do the same thing here as it does in algebra!\n",
    "\n",
    "**Double click the code blocks to edit them and write the code for the other stars.**"
   ]
  },
  {
   "cell_type": "code",
   "execution_count": 10,
   "metadata": {
    "id": "D2sPg-rtBs-q"
   },
   "outputs": [],
   "source": [
    "# Interpolate the data for smoother plots\n",
    "wave1, flux1 = interp(wave1,flux1)"
   ]
  },
  {
   "cell_type": "code",
   "execution_count": 11,
   "metadata": {
    "id": "BFpCiTbFDhee"
   },
   "outputs": [],
   "source": [
    "# Add units to the fluxes and wavelengths\n",
    "flux1 = flux1*u.Unit('erg cm-2 s-1 AA-1') \n",
    "wave1 = wave1*u.AA"
   ]
  },
  {
   "cell_type": "markdown",
   "metadata": {
    "id": "Trc3pdmwZwRO"
   },
   "source": [
    "You will use the common MatPlotLib library to plot all five stars on the same set of axes. The function **`ax.plot(wave1, flux1, label=label1)`** tells the axis object to plot **`wave1`** on the x-axis and **`flux1`** on the y-axis and to use **`label1`** in the legend.\n",
    "\n",
    "Go ahead and add **`ax.plot(<...>)`** lines for the other stars and run the block. If all goes well, the 5 stellar spectra should all be plotted together with each star name displayed by color in the legend.\n",
    "\n",
    "**Double click the code block to edit it and write the code for the other stars.**"
   ]
  },
  {
   "cell_type": "code",
   "execution_count": 12,
   "metadata": {
    "colab": {
     "base_uri": "https://localhost:8080/",
     "height": 522
    },
    "id": "wYgoPWsd-OK1",
    "outputId": "9093691d-dc05-49a8-935c-bcffa1c10bd7"
   },
   "outputs": [
    {
     "data": {
      "image/png": "[encoded data removed]",
      "text/plain": [
       "<Figure size 748.8x514.8 with 1 Axes>"
      ]
     },
     "metadata": {
      "needs_background": "light",
      "tags": []
     },
     "output_type": "display_data"
    }
   ],
   "source": [
    "fig, ax = plt.subplots()\n",
    "fig.suptitle('Eu II Absorption Detection', fontsize='24')\n",
    "\n",
    "# Add the other plots here.\n",
    "ax.plot(wave1, flux1, label=label1)\n",
    "\n",
    "# This displays 2 lines to mark Ni I and Eu II line locations.\n",
    "plt.axvline(x=6645.127,ls=':')\n",
    "plt.axvline(x=6643.638,ls=':')\n",
    "\n",
    "# This labels the x-axis and y-axis.\n",
    "plt.xlabel('λ (Å)',fontsize='20')\n",
    "plt.ylabel('Relative flux', fontsize='20')\n",
    "\n",
    "# Display a grid.\n",
    "plt.grid(True)\n",
    "\n",
    "# Turn on the legend.\n",
    "ax.legend(loc='best')\n",
    "\n",
    "# Display all the things we've setup.\n",
    "plt.show()"
   ]
  },
  {
   "cell_type": "markdown",
   "metadata": {
    "id": "Z59LtAp6fezr"
   },
   "source": [
    "## Question 2\n",
    "**Double click to answer the question. What features do you see in the spectra? How many major features do you see? How are the spectra similar and how are they different? Remember to describe how the plots are shaped relative to one another.**\n",
    "\n",
    "Answer: "
   ]
  },
  {
   "cell_type": "markdown",
   "metadata": {
    "id": "HvyME5fAgN5o"
   },
   "source": [
    "## Question 3\n",
    "**Double click to answer the question. What do the dips represent? What does the wavelength of the lowest point in the dip represent? Hint: How is this related to hydrogen atoms only emitting and absorbing certain photons.**\n",
    "\n",
    "Answer: "
   ]
  },
  {
   "cell_type": "markdown",
   "metadata": {
    "id": "cyF7SUeCWetQ"
   },
   "source": [
    "Hint: [How do spectral lines form?](https://openstax.org/books/astronomy/pages/5-5-formation-of-spectral-lines)"
   ]
  },
  {
   "cell_type": "markdown",
   "metadata": {
    "id": "hSwIS4x1HjkA"
   },
   "source": [
    "# Determining atomic abundances: Equivalent Width"
   ]
  },
  {
   "cell_type": "markdown",
   "metadata": {
    "id": "J9BRVh9JOz7r"
   },
   "source": [
    "We can measure how much of a particular element is in a star using spectroscopy. We plot the spectrum and find a particular absorption feature associated with a particular element. Then we can use a clever approximation to get a sense of the amount of the element present. The approximation is called the equivalent width. The equivalent width calculation is fairly simple geometry that comes from some [very complicated stellar physics and chemistry](http://research.iac.es/congreso/itn-gaia2013/media/Primas2.pdf).\n",
    "\n",
    "$$ W_{\\lambda}\\propto\\ Nhf\\lambda^2 $$\n",
    "\n",
    "The equivalent width $ W_{\\lambda} $ varies as the number of atoms of that element, $ N $."
   ]
  },
  {
   "cell_type": "markdown",
   "metadata": {
    "id": "fitSaRqktSyI"
   },
   "source": [
    "## Making the EW rectangle: Full-Width at Half Max"
   ]
  },
  {
   "cell_type": "markdown",
   "metadata": {
    "id": "DWzVxtxbY4eb"
   },
   "source": [
    "This code block highlights the EW rectangle. Just run this block and don't edit anything. The results of the code are explained below."
   ]
  },
  {
   "cell_type": "code",
   "execution_count": 13,
   "metadata": {
    "colab": {
     "base_uri": "https://localhost:8080/",
     "height": 522
    },
    "id": "2ndx-utcsu6S",
    "outputId": "c420ea32-4c81-481e-a56c-42592327a1fd"
   },
   "outputs": [
    {
     "data": {
      "image/png": "[encoded data removed]",
      "text/plain": [
       "<Figure size 748.8x514.8 with 1 Axes>"
      ]
     },
     "metadata": {
      "needs_background": "light",
      "tags": []
     },
     "output_type": "display_data"
    }
   ],
   "source": [
    "# Plot one of our stars and annotate the equivalent width.\n",
    "fig2, ax2 = plt.subplots()\n",
    "fig2.suptitle('Ni I Equivalent Width', fontsize='24')\n",
    "\n",
    "ax2.plot(wave1, flux1)\n",
    "\n",
    "plt.xlabel('λ (Å)',fontsize='20')\n",
    "plt.ylabel('Relative flux', fontsize='20')\n",
    "\n",
    "ax2.set_xlim([6643.3,6644])\n",
    "\n",
    "# Fill in the area under the curve and overlay a rectangle of equal area.\n",
    "# Green area.\n",
    "trans = mtransforms.blended_transform_factory(ax.transData, ax.transAxes)\n",
    "ax2.fill_between(wave1, 1, flux1, where=flux1 < 1*u.Unit('erg cm-2 s-1 AA-1'), \n",
    "                 facecolor='green', interpolate=True, alpha=0.3)\n",
    "# Dark gray area.\n",
    "ax2.add_patch(plt.Rectangle((.29, .045), .358, 0.85, ec='k', fc=\"k\",\n",
    "                            alpha=0.3,  transform=ax2.transAxes))\n",
    "\n",
    "plt.axhline(y=1,ls='--',color='red',lw=2)\n",
    "\n",
    "plt.show()"
   ]
  },
  {
   "cell_type": "markdown",
   "metadata": {
    "id": "lGDresQjtZ6I"
   },
   "source": [
    "In order to find the equivalent width, you'll need to find the full-width at half-max (FWHM). Notice the inverted bell-curve shape in the absorption line for Nickel. Since the curve is upside down for our absorption region, we need to find the minimum y-value. That looks like around 0.45 below 1.0 on the flux axis. If we divide by 2 we get the half-max of 0.225 below 1.0. You can see the blue flux curve must go through this y-value twice. Once on the left at around 6643.5 Å and again on the right at around 6643.75 Å. The EW is then\n",
    "\n",
    "$$ EW = (6643.75\\ Å-6643.5\\ Å)\\times 0.45 $$ \n",
    "$$ = 0.25 \\ Å\\times 0.45=112.5\\ mÅ $$"
   ]
  },
  {
   "cell_type": "markdown",
   "metadata": {
    "id": "197wyPv56veG"
   },
   "source": [
    "### _The equivalent width is the area of rectangle that is **FWHW** wide by \"**max absorption**\" high. This area is almost exactly the same as the area under the curve between 1.0 and the flux curve._"
   ]
  },
  {
   "cell_type": "markdown",
   "metadata": {
    "id": "yCCNi44RDZ4q"
   },
   "source": [
    "## Question 4\n",
    "**Double click to answer the question. Choose one of the plots you made and estimate by eye the equivalent width for the Ni I line near 6643 Å. You need to estimate the depth of the curve below 1. Then divide that by 2 and find the left and right wavelengths where the curve has that same flux below 1. Multiply these numbers. The units are Å since the flux here is relative and has no units.**\n",
    "\n",
    "Answer: \n",
    "* What star did you choose?  \n",
    "* What is the max absorption below 1? \n",
    "* What is the half-max? \n",
    "* At what 2 wavelengths does the flux curve pass through the half-max point? \n",
    "* What is the equivalent width?\n",
    "(left wavelength - right wavelength)*(maximum absorption below 1)"
   ]
  },
  {
   "cell_type": "markdown",
   "metadata": {
    "id": "sPGwjPejC-OS"
   },
   "source": [
    "## Question 5\n",
    "**Double click to answer the question. Choose one of the plots you made and estimate the equivalent width for the Ni I line near 6643 Å. You need to estimate the depth of the curve below 1. Then divide that by 2 and find the left and right wavelengths where the curve has that same flux below 1. Multiply these numbers. The units are Å since the flux here is relative and has no units.**\n",
    "\n",
    "Answer: \n",
    "* What star did you choose?  \n",
    "* What is the max absorption below 1? \n",
    "* What is the half-max? \n",
    "* At what 2 wavelengths does the flux curve pass through the half-max point? \n",
    "* What is the equivalent width?\n",
    "(left wavelength - right wavelength)*(maximum absorption below 1)"
   ]
  },
  {
   "cell_type": "markdown",
   "metadata": {
    "id": "jWxGUkyETMxF"
   },
   "source": [
    "## Finding the Equivalent Width with SpecUtils"
   ]
  },
  {
   "cell_type": "markdown",
   "metadata": {
    "id": "hCpS9x5gTNSY"
   },
   "source": [
    "Here you are creating a spectrum from each star's flux and wavelength axis. This means you can use SpecUtils to determine the equivalent width for Ni I near 6643 Å and for Eu II near 6645 Å.\n",
    "\n",
    "**Double click the code blocks to edit them and write the code for the other stars.**"
   ]
  },
  {
   "cell_type": "code",
   "execution_count": 14,
   "metadata": {
    "id": "GLAfOyAXYCVH"
   },
   "outputs": [],
   "source": [
    "spec1 = Spectrum1D(spectral_axis=wave1, flux=flux1)"
   ]
  },
  {
   "cell_type": "markdown",
   "metadata": {
    "id": "Y6q1jgQsfqaS"
   },
   "source": [
    "Add code to find the EW for Ni and Eu, and also the ratio of Eu/Ni."
   ]
  },
  {
   "cell_type": "code",
   "execution_count": 15,
   "metadata": {
    "colab": {
     "base_uri": "https://localhost:8080/"
    },
    "id": "4-P1iPCP9QPC",
    "outputId": "5b9a4da4-8c68-440f-86ef-a219f5cb6894"
   },
   "outputs": [
    {
     "name": "stdout",
     "output_type": "stream",
     "text": [
      "EW Ni I 6643A\tEW Eu II 6645 A\tEu/Ni\tName\n",
      "0.1 Angstrom\t-0.001 Angstrom\t-0.007\tHD141531\n"
     ]
    }
   ],
   "source": [
    "# Calculate the EW of Ni I and Eu II in their specific spectral regions.\n",
    "ni1 = equivalent_width(spec1, regions=SpectralRegion(6643.0*u.AA,6644*u.AA))\n",
    "eu1 = equivalent_width(spec1, regions=SpectralRegion(6645.0*u.AA,6645.5*u.AA))\n",
    "r1 = eu1/ni1\n",
    "\n",
    "# Rounding\n",
    "ni1 = np.round(ni1,3)\n",
    "eu1 = np.round(eu1,3)\n",
    "r1 = np.round(r1,3)\n",
    "\n",
    "# Print the EW or Ni I, Eu II, and their ratio.\n",
    "print('EW Ni I 6643A\\tEW Eu II 6645 A\\tEu/Ni\\tName') # Print a header row\n",
    "print(str(ni1)+'\\t'+str(eu1)+'\\t'+str(r1)+'\\t'+label1) # Print for target 1"
   ]
  },
  {
   "cell_type": "markdown",
   "metadata": {
    "id": "wgQACCg5fOUA"
   },
   "source": [
    "## Question 6\n",
    "**Double click here to answer. Compare your calculation done by hand to that done by the code. Were you close? Why would we compare the 2 calculations? What could cause the calculation by hand and that from the computer to be different?**\n",
    "\n",
    "Answer:"
   ]
  },
  {
   "cell_type": "markdown",
   "metadata": {
    "id": "eyz3q0sco2WR"
   },
   "source": [
    "# Stellar Nucleosynthesis\n",
    "\n",
    "![https://physics.aps.org/articles/v9/s66](https://physics.aps.org/assets/96e56287-2b25-482b-b075-894adc7b2b10/es66_1.png)\n",
    "\n",
    "Heavy elements can be formed when neutrons smash into existing elements. The result is a left over proton in the nucleus. Adding a proton to a nucleus means you changed from one atom to another. There are 2 types of stellar events that cause the rapid formation of elements: stellar explosions like a supernova and stellar mergers."
   ]
  },
  {
   "cell_type": "markdown",
   "metadata": {
    "id": "2qXGs4-6nPw2"
   },
   "source": [
    "## Neutron Capture r-process & s-process\n",
    "In 2017 astronomers observed a neutron star merger or kilonova. This event was so explosive and energetic that scientists observed the gravitational waves from the event. This type of merger is now thought to be the source of many heavy elements. Stellar explosions can cause rapid neutron capture or the r-process. \n",
    "\n",
    "Sometimes a random neutron inside a star slams into a nucleus and makes a heavier element. This process is rare so it takes a long time to build up an element this way. That's why it's called the slow or s-process. \n",
    "\n",
    "Europium is thought to mainly come from the r-process, although some europium comes from the s-process.\n",
    "<img src=\"https://i0.wp.com/www.jimmynewland.com/wp/wp-content/uploads/2019/12/image.png?w=667&ssl=1\" width=640 />"
   ]
  },
  {
   "cell_type": "markdown",
   "metadata": {
    "id": "74TvT2BXgT9R"
   },
   "source": [
    "## Question 7\n",
    "**Double click here to answer. If our target stars have comparable amounts of nickel, what measure should you use based on the results from the code? Rank the stars from most europium detected to least europium detected.**\n",
    "\n",
    "Answer:"
   ]
  },
  {
   "cell_type": "markdown",
   "metadata": {
    "id": "e6CPY1W5gzk4"
   },
   "source": [
    "## Question 8\n",
    "**Double click here to answer. These stars all have very similar properties like mass and temperature. Why do they have varying amounts of europium? You should be able to list 3 physical processes by which europium atoms ended up in these stars.**\n",
    "\n",
    "Answer: "
   ]
  },
  {
   "cell_type": "markdown",
   "metadata": {
    "id": "yWXV9KAusUd4"
   },
   "source": [
    "# HR Diagram\n",
    "Astronomers use the Hertzsprung-Russell Diagram to compare groups of stars and to look for patterns.\n",
    "<img src=\"https://openstax.org/resources/dd3b626194347b820b300c0437928fdb31869efd\" width=\"640\" />\n",
    "\n",
    "Here is a classic example of an HR diagram with some of the known groupings labeled.\n",
    "\n",
    "If you need a refresher on the HR diagram, take a look [here](https://openstax.org/books/astronomy/pages/18-4-the-h-r-diagram#OSC_Astro_18_04_Sample)"
   ]
  },
  {
   "cell_type": "markdown",
   "metadata": {
    "id": "_UkPn14yuvWb"
   },
   "source": [
    "![HR Diagram](http://www.jimmynewland.com/wp/wp-content/uploads/2020/08/Screen-Shot-2020-08-12-at-5.07.18-PM.png)\n",
    "\n",
    "Here is an HR diagram of some of the nearest stars with our sun and our target stars also plotted. The main sequence is the grouping of stars running from upper left to lower right and the red giant branch runs from the main sequence off to the upper right."
   ]
  },
  {
   "cell_type": "markdown",
   "metadata": {
    "id": "SUGEtR1DsXsR"
   },
   "source": [
    "## Question 9\n",
    "**Double click here to answer. Using the HR diagram, can you put the results of the EW measurements in context? Are all the targets the same age? What role could the s-process have in these stars?**\n",
    "\n",
    "Answer:"
   ]
  },
  {
   "cell_type": "markdown",
   "metadata": {
    "id": "bxnNtsEOwQkJ"
   },
   "source": [
    "# Wrapping up\n",
    "\n",
    "That's it! Congrats on using code to explore an application of spectroscopy. Feel free to save a copy and explore the code further.\n",
    "\n",
    "**Be sure to save this completed notebook in your drive and to share it with your instructor!**"
   ]
  },
  {
   "cell_type": "markdown",
   "metadata": {
    "id": "dDKPJ_jnw6qO"
   },
   "source": [
    "## Share and share alike!\n",
    "This activity was written by J. Newland and is meant to be shared. If you remix this work, let me know.\n",
    "[Reach out for comments or questions.](https://jimmynewland.com)\n",
    "\n",
    "<a rel=\"license\" href=\"http://creativecommons.org/licenses/by-nc-sa/4.0/\"><img alt=\"Creative Commons License\" style=\"border-width:0\" src=\"https://i.creativecommons.org/l/by-nc-sa/4.0/80x15.png\" /></a><br />This work is licensed under a <a rel=\"license\" href=\"http://creativecommons.org/licenses/by-nc-sa/4.0/\">Creative Commons Attribution-NonCommercial-ShareAlike 4.0 International License</a>.\n",
    "\n"
   ]
  }
 ],
 "metadata": {
  "colab": {
   "authorship_tag": "ABX9TyONs1OwtMWsReZJlVKDxvnZ",
   "collapsed_sections": [],
   "include_colab_link": true,
   "name": "Equivalent Width Spectroscopy Lab.ipynb",
   "provenance": []
  },
  "kernelspec": {
   "display_name": "Python 3",
   "language": "python",
   "name": "python3"
  },
  "language_info": {
   "codemirror_mode": {
    "name": "ipython",
    "version": 3
   },
   "file_extension": ".py",
   "mimetype": "text/x-python",
   "name": "python",
   "nbconvert_exporter": "python",
   "pygments_lexer": "ipython3",
   "version": "3.6.12"
  }
 },
 "nbformat": 4,
 "nbformat_minor": 4
}
