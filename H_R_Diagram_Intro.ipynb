{
  "nbformat": 4,
  "nbformat_minor": 0,
  "metadata": {
    "anaconda-cloud": {},
    "kernelspec": {
      "display_name": "Python 3",
      "language": "python",
      "name": "python3"
    },
    "language_info": {
      "codemirror_mode": {
        "name": "ipython",
        "version": 3
      },
      "file_extension": ".py",
      "mimetype": "text/x-python",
      "name": "python",
      "nbconvert_exporter": "python",
      "pygments_lexer": "ipython3",
      "version": "3.7.4"
    },
    "colab": {
      "provenance": [],
      "include_colab_link": true
    }
  },
  "cells": [
    {
      "cell_type": "markdown",
      "metadata": {
        "id": "view-in-github",
        "colab_type": "text"
      },
      "source": [
        "<a href=\"https://colab.research.google.com/github/jimmynewland/colabnotebooks/blob/main/H_R_Diagram_Intro.ipynb\" target=\"_parent\"><img src=\"https://colab.research.google.com/assets/colab-badge.svg\" alt=\"Open In Colab\"/></a>"
      ]
    },
    {
      "cell_type": "markdown",
      "metadata": {
        "id": "3JDakeShaAQH"
      },
      "source": [
        "# Hertzsprung-Russel Diagram Exploration\n",
        "This coding activity let's us explore a dataset of stars by plotting something called an H-R Diagram. Astronomers use the Hertzsprung-Russell Diagram to compare groups of stars and to look for patterns.\n",
        "\n",
        "If you need a refresher on the HR diagram, take a look [here](https://openstax.org/books/astronomy/pages/18-4-the-h-r-diagram#OSC_Astro_18_04_Sample)"
      ]
    },
    {
      "cell_type": "markdown",
      "metadata": {
        "id": "mzRt4wYUXmnr"
      },
      "source": [
        "## Question 1\n",
        "**Put your name and period and include anyone working with you as well.**"
      ]
    },
    {
      "cell_type": "markdown",
      "metadata": {
        "id": "lwYsOqYNXwTX"
      },
      "source": [
        "Double click here to answer:"
      ]
    },
    {
      "cell_type": "markdown",
      "metadata": {
        "id": "YIFKsGqT9KNn"
      },
      "source": [
        "# Star catalogue analysis\n",
        "This activity analyzes properties of over 100,000 stars.\n",
        "\n",
        "To get started,\n",
        "- You won't hurt anything by experimenting. If you break it, close the tab and open the activity again to start over.\n",
        "- Is this your first time? Need a refresher? Try the 5-minute [Intro to Coding activity](https://colab.research.google.com/github/jimmynewland/colabnotebooks/blob/main/Colab_Coding_Intro.ipynb) and come back here.\n",
        "\n",
        "When you're ready, run each code cell until you get down to **Question 2**."
      ]
    },
    {
      "cell_type": "code",
      "metadata": {
        "id": "6No7X6TC9KNo"
      },
      "source": [
        "# Import modules that contain functions we need\n",
        "import pandas as pd\n",
        "import numpy as np\n",
        "%matplotlib inline\n",
        "import matplotlib.pyplot as plt"
      ],
      "execution_count": null,
      "outputs": []
    },
    {
      "cell_type": "code",
      "metadata": {
        "id": "q3lG6Kle9KNp"
      },
      "source": [
        "# Read in data that will be used for the calculations.\n",
        "data = pd.read_csv(\"https://github.com/adamlamee/CODINGinK12/raw/master/data/stars.csv\")"
      ],
      "execution_count": null,
      "outputs": []
    },
    {
      "cell_type": "code",
      "metadata": {
        "id": "QquuPgqt9KNp"
      },
      "source": [
        "# We wish to look at the first 5 rows of our data set\n",
        "data.head(5)"
      ],
      "execution_count": null,
      "outputs": []
    },
    {
      "cell_type": "code",
      "metadata": {
        "id": "S4gayXWq9KNp"
      },
      "source": [
        "# The .shape command displays the (number of rows , number of columns) in a file.\n",
        "data.shape"
      ],
      "execution_count": null,
      "outputs": []
    },
    {
      "cell_type": "markdown",
      "metadata": {
        "id": "RfzuC0f29KNp"
      },
      "source": [
        "## Question 2\n",
        "Let's get acquainted with this data set. Look at the cells above to find the answers to the following questions:\n",
        "- In the table above, what do you think each of the column headings represent?\n",
        "- How many stars are included in this data set?"
      ]
    },
    {
      "cell_type": "markdown",
      "metadata": {
        "id": "fSIdlLg1YQMt"
      },
      "source": [
        "Double click here to answer:"
      ]
    },
    {
      "cell_type": "markdown",
      "metadata": {
        "id": "OnGodmN8Y8Ax"
      },
      "source": [
        "\n",
        "When you're ready, scroll down to **Question 3**."
      ]
    },
    {
      "cell_type": "code",
      "metadata": {
        "id": "h-L2gXo79KNp"
      },
      "source": [
        "fig = plt.figure(figsize=(15, 4))\n",
        "plt.scatter(data['ra'],data['dec'], s=0.01)\n",
        "plt.xlim(24, 0)\n",
        "plt.title(\"What is this?\")\n",
        "plt.xlabel(\"x axis?\")\n",
        "plt.ylabel(\"y axis\");"
      ],
      "execution_count": null,
      "outputs": []
    },
    {
      "cell_type": "markdown",
      "metadata": {
        "id": "BapNkLEh9KNp"
      },
      "source": [
        "## Question 3\n",
        "The code above generates a plot of **declination** vs. **right ascension** for each star in the data table.\n",
        "- The title and axis labels on the plot could use some work. Try editing the code above the plot, then run the code again to see the changes.\n",
        "- What pattern do you see in the plot? What might explain that pattern?"
      ]
    },
    {
      "cell_type": "markdown",
      "metadata": {
        "id": "WdiwflmOYZ0k"
      },
      "source": [
        "Double click here to describe patterns in the plot:"
      ]
    },
    {
      "cell_type": "markdown",
      "metadata": {
        "id": "RWUoATC7Y12v"
      },
      "source": [
        "\n",
        "When you're ready, scroll down to **Question 4**."
      ]
    },
    {
      "cell_type": "code",
      "metadata": {
        "id": "y4YuzLAc9KNq"
      },
      "source": [
        "# format the points on the plot\n",
        "transparency = 0.2\n",
        "size = 1\n",
        "\n",
        "# draws a scatter plot\n",
        "plt.scatter(np.log10(data.temp), data.absmag, s=size, edgecolors='none', alpha=transparency)\n",
        "plt.xlim(np.log10(15000),np.log10(2000))\n",
        "plt.ylim(20,-15)\n",
        "plt.title(\"H-R Diagram (log)\")\n",
        "plt.ylabel(\"Absolute Magnitude\")\n",
        "plt.xlabel(\"Log T (log K)\")"
      ],
      "execution_count": null,
      "outputs": []
    },
    {
      "cell_type": "markdown",
      "metadata": {
        "id": "sxEtxLTb9KNq"
      },
      "source": [
        "## Question 4\n",
        "Use the plot above to answer the following questions:\n",
        "- What patterns do you see in the plot?\n",
        "- The y-axis shows brighter stars at the top and dimmer stars toward the bottom. What's strange about the **absolute magnitude** scale?\n",
        "- Some stars aren't very hot, but they're very bright because they're so big (called *giants* and *super giants*). Where are those on the plot?\n",
        "- Other stars are really bright, even though they're small (called *white dwarfs*). How could that happen? Where might you find them on the plot?"
      ]
    },
    {
      "cell_type": "markdown",
      "metadata": {
        "id": "NojOQKCLZmrx"
      },
      "source": [
        "Double click to answer:"
      ]
    },
    {
      "cell_type": "markdown",
      "metadata": {
        "id": "vwG5dveoZl4U"
      },
      "source": [
        "When you're ready, scroll down to **Question 5**."
      ]
    },
    {
      "cell_type": "code",
      "metadata": {
        "id": "eRrmnEsR9KNq"
      },
      "source": [
        "# These are the abbreviations for all the constellations\n",
        "data['con'].sort_values().unique()"
      ],
      "execution_count": null,
      "outputs": []
    },
    {
      "cell_type": "code",
      "metadata": {
        "id": "HQs7xGuK9KNq"
      },
      "source": [
        "# This picks a constellation to plot\n",
        "constellation = data.query('con == \"Ori\"') # Ori is short for Orion\n",
        "\n",
        "plt.close('all')\n",
        "fig = plt.figure(figsize=(12, 5))\n",
        "plt.subplot(1, 2, 1)\n",
        "\n",
        "# This plots where the constellation's 10 brightest stars are in the sky\n",
        "constellation = constellation.sort_values('mag').head(10)\n",
        "plt.scatter(constellation['ra'],constellation['dec'])\n",
        "plt.gca().invert_xaxis()\n",
        "plt.title(\"A constellation in the sky\")\n",
        "plt.xlabel(\"right ascension\")\n",
        "plt.ylabel(\"declination\")\n",
        "\n",
        "plt.subplot(1, 2, 2)\n",
        "# format the points on the plot\n",
        "transparency = 0.2\n",
        "size = 1\n",
        "\n",
        "# plots the constellation's stars in red over the big plot of all stars\n",
        "plt.scatter(np.log10(data['temp']), data['absmag'], s=size, edgecolors='none', alpha=transparency)\n",
        "logtemps = np.log10(constellation['temp'])\n",
        "#plt.scatter(constellation['temp'], constellation['absmag'], color='red', edgecolors='none')\n",
        "plt.scatter(logtemps, constellation['absmag'], color='red', edgecolors='none')\n",
        "#plt.xlim(2000,15000)\n",
        "plt.xlim(np.log10(15000),np.log10(2000))\n",
        "plt.ylim(20,-15)\n",
        "plt.title(\"Types of stars in a constellation\")\n",
        "plt.ylabel(\"Absolute Magnitude\")\n",
        "plt.xlabel(\"log Temp (logK)\")\n",
        "plt.show()"
      ],
      "execution_count": null,
      "outputs": []
    },
    {
      "cell_type": "code",
      "metadata": {
        "id": "ES8YKM3aMxgn"
      },
      "source": [
        "plt.close('all')\n",
        "fig = plt.figure(figsize=(12, 5))\n",
        "plt.subplot(1, 2, 1)\n",
        "\n",
        "plt.scatter(data['temp'], data['absmag'], s=size, edgecolors='none', alpha=transparency)\n",
        "plt.xlim(15000,2000)\n",
        "plt.ylim(20,-15)\n",
        "plt.title(\"Types of stars in a constellation\")\n",
        "plt.ylabel(\"Absolute Magnitude\")\n",
        "plt.xlabel(\"Temp (K)\")\n",
        "plt.title(\"HR Diagram (not log)\")\n",
        "\n",
        "plt.subplot(1, 2, 2)\n",
        "transparency = 0.2\n",
        "size = 1\n",
        "\n",
        "plt.scatter(np.log10(data['temp']), data['absmag'], s=size, edgecolors='none', alpha=transparency)\n",
        "plt.xlim(np.log10(15000),np.log10(2000))\n",
        "plt.ylim(20,-15)\n",
        "plt.title(\"HR Diagram (log)\")\n",
        "plt.ylabel(\"Absolute Magnitude\")\n",
        "plt.xlabel(\"log Temp (logK)\")\n",
        "plt.show()"
      ],
      "execution_count": null,
      "outputs": []
    },
    {
      "cell_type": "markdown",
      "metadata": {
        "id": "ivfXlh_k9KNq"
      },
      "source": [
        "## Question Five\n",
        "The left plot above shows what the constellation **Orion** looks like in the sky. The plot on the right shows those same stars (as red points) on the same absolute magnitude vs. temperature plot in part two.\n",
        "- Using the graphic below, which types of stars are in Orion?\n",
        "- The code above shows the abbreviation for each constellation, then lets you filter the data set for just the stars in that constellation (called a *query*). Try plotting a different constellation, like Cassiopeia. Is it made of different types of stars?\n",
        "<img src=\"https://openstax.org/apps/archive/20231218.154301/resources/dd3b626194347b820b300c0437928fdb31869efd\" width=\"640\" /><br />Figure 1 - H-R diagram for a selected sample of stars. (Fraknoi et al., 2017)\n",
        "\n"
      ]
    },
    {
      "cell_type": "markdown",
      "source": [],
      "metadata": {
        "id": "90gaVrIQ_8lw"
      }
    },
    {
      "cell_type": "markdown",
      "source": [
        "---\n",
        "## Saving Your Work\n",
        "This is running on a Google server on a distant planet and deletes what you've done when you close this tab. To save your work for later use or analysis you have a few options:\n",
        "- File > \"Save a copy in Drive\" will save it to you Google Drive in a folder called \"Collaboratory\". You can run it later from there.\n",
        "- File > \"Download .ipynb\" to save to your computer (and run with Jupyter software later)\n",
        "- File > Print to ... um ... print.\n",
        "- To save an image of a plot or chart, right-click on it and select Save Image as ...\n",
        "\n",
        "## Credits\n",
        "The data came from [The Astronomy Nexus](http://www.astronexus.com/hyg) and their collection of the Hipparcos, Yale Bright Star, and Gliese catalogues ([huge zip file here](http://www.astronexus.com/files/downloads/hygdata_v3.csv.gz)).\n",
        "\n",
        "UCF physics undergraduate Tyler Townsend, who located the data and began the analysis, was funded by Seminole County Schools to make scientific computing a standard part of every middle school science class. The Mily Way scatterplot was added by [Quarknet](https://quarknet.i2u2.org/) Fellow and high school teacher Jeremy Smith, Baltimore, MD. This notebook was designed by [Adam LaMee](https://adamlamee.github.io/), who coordinated its development as the [PhysTEC](https://www.phystec.org/) Teacher-in-residence in the [University of Central Florida's Physics department](https://sciences.ucf.edu/physics/). Find more of Adam LaMee's activities at [CODINGinK12.org](http://www.codingink12.org)."
      ],
      "metadata": {
        "id": "MqRsjjID_1z3"
      }
    }
  ]
}