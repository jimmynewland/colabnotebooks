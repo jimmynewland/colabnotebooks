{
  "nbformat": 4,
  "nbformat_minor": 0,
  "metadata": {
    "colab": {
      "provenance": [],
      "include_colab_link": true
    },
    "kernelspec": {
      "display_name": "Python 3",
      "language": "python",
      "name": "python3"
    },
    "language_info": {
      "codemirror_mode": {
        "name": "ipython",
        "version": 3
      },
      "file_extension": ".py",
      "mimetype": "text/x-python",
      "name": "python",
      "nbconvert_exporter": "python",
      "pygments_lexer": "ipython3",
      "version": "3.6.11"
    }
  },
  "cells": [
    {
      "cell_type": "markdown",
      "metadata": {
        "id": "view-in-github",
        "colab_type": "text"
      },
      "source": [
        "<a href=\"https://colab.research.google.com/github/jimmynewland/colabnotebooks/blob/main/SDSS_BOSS_Plate_Hubbles_Law_Student.ipynb\" target=\"_parent\"><img src=\"https://colab.research.google.com/assets/colab-badge.svg\" alt=\"Open In Colab\"/></a>"
      ]
    },
    {
      "cell_type": "markdown",
      "metadata": {
        "id": "gwVFURGPYQs9"
      },
      "source": [
        "# Hubble Diagram from Sloan Digital Sky Survey Data\n",
        "\n"
      ]
    },
    {
      "cell_type": "markdown",
      "metadata": {
        "id": "zMa7SOMVCb1L"
      },
      "source": [
        "##Question 0\n",
        "**Double click here to answer. Put your name(s) and class info here.**\n",
        "\n",
        "Answer:"
      ]
    },
    {
      "cell_type": "markdown",
      "metadata": {
        "id": "7PLrZhbcCaIl"
      },
      "source": [
        "<img src=\"https://www.sdss.org/wp-content/uploads/2014/11/SDSS_telescope_new.jpg\" width=500 />\n",
        "\n",
        "The Sloan Digital Sky Survey (SDSS) has been running at Apache Point Observatory since 2000. This large volume of publicly available data is a perfect place to explore scientific computing and data science while getting a hands on look at Hubble's law.\n",
        "\n",
        "This activity looks at data from the Baryon Oscillation Spectroscopy Survey (BOSS). The specific data here all comes from a spectroscopic plate observation of one chunk of the sky.\n",
        "\n",
        "<img src=\"https://www.sdss.org/wp-content/uploads/2019/11/apogeen-plugging.png\" width=500 />\n",
        "\n",
        "Learn more about the [SDSS Plates](http://voyages.sdss.org/preflight/sdss-plates/)\n",
        "\n",
        "If you are an educator with a plate that came from the BOSS survey, replace the plate 7045 in the code with the plate number written on your plate. You will need to look through the plate browser to get the modified Julian date or MJD. The MJD system is a way for astronomers to count days in a structured way (it's still strange though). The plate I used was **`7045`**, so according the [plate browser](https://skyserver.sdss.org/dr12/en/tools/getimg/plate.aspx?choosesurvey=boss&P=299489402097264640&S=1868993899549190144&B=7931964954050619392&A=apogee.apo25m.c.r5.4812.55725), the MJD for my plate is **`56577`**\n",
        "\n",
        "<img src=\"http://www.jimmynewland.com/wp/wp-content/uploads/2020/08/sdss_7045_plate.png\" width=500 />\n",
        "\n",
        "We are going to explore how Edwin Hubble determined the general relationship between the distance of a galaxy and that galaxy's redshift.\n",
        "\n",
        "Today you will be using Python running on Google CoLab to analyze data that you will access directly from the SDSS science archive database.\n",
        "\n",
        "The [orginal version](http://voyages.sdss.org/expeditions/expanding-universe/hubble-diagram/) of this activity uses spreadsheets instead of Python and is also a cool way to explore data from the SDSS plate collection."
      ]
    },
    {
      "cell_type": "markdown",
      "metadata": {
        "id": "NbAnupTw4-ph"
      },
      "source": [
        "## Setup our project\n",
        "\n",
        "Click on the following block of code to edit and to display the run button.\\\n",
        "***Don't forget to click the run button for each code block, even if you didn't write any code!***\\\n",
        "A handy keyboard shortcut to run and move to the next cell is shift-M."
      ]
    },
    {
      "cell_type": "code",
      "metadata": {
        "id": "4WmVTgi1UhTB"
      },
      "source": [
        "# Import data science packages\n",
        "import seaborn as sns\n",
        "import pandas as pd\n",
        "from scipy import stats\n",
        "\n",
        "# Import NumPy to do mathy stuff\n",
        "import numpy as np\n",
        "\n",
        "# Set our project up to plot data\n",
        "import matplotlib.pyplot as plt\n",
        "%matplotlib inline\n",
        "print('Imported modules')"
      ],
      "execution_count": null,
      "outputs": []
    },
    {
      "cell_type": "code",
      "source": [
        "!pip install astroquery"
      ],
      "metadata": {
        "id": "kx1nSZDuupgg"
      },
      "execution_count": null,
      "outputs": []
    },
    {
      "cell_type": "code",
      "metadata": {
        "id": "YaVAhpX2UhTP"
      },
      "source": [
        "# Import some astronomy specific packages\n",
        "from astropy.table import Table\n",
        "from astroquery.sdss import SDSS\n",
        "print('Imported modules')"
      ],
      "execution_count": null,
      "outputs": []
    },
    {
      "cell_type": "markdown",
      "metadata": {
        "id": "i7pQRhsQ5Fk0"
      },
      "source": [
        "## Supply the plate information"
      ]
    },
    {
      "cell_type": "code",
      "metadata": {
        "id": "FDigHAyZUhTZ"
      },
      "source": [
        "# Plate browser: https://skyserver.sdss.org/dr12/en/tools/getimg/plate.aspx\n",
        "# Put your particular plate and MJD here\n",
        "plate = 7045\n",
        "mjd = 56577\n",
        "print('plate =', plate, \"\\nMJD =\", mjd)"
      ],
      "execution_count": null,
      "outputs": []
    },
    {
      "cell_type": "markdown",
      "metadata": {
        "id": "bZPHvMh-a5HY"
      },
      "source": [
        "This activity was designed around plates from the [Baryon Oscillation Spectroscopic Survey](https://www.sdss.org/surveys/boss/) or BOSS. Mainly the science targets are galaxies and quasars although the data contains stars which are used as references for the spectroscopy.\n",
        "\n",
        "We are going to analyze just a small part of the data for all the galaxies on this plate. The BOSS science is not our goal today. Instead, let's explore how this data supports the original idea from Edwin Hubble of universal expansion!"
      ]
    },
    {
      "cell_type": "markdown",
      "metadata": {
        "id": "GqV-EhF05LuD"
      },
      "source": [
        "## Query the database\n",
        "\n",
        "What we are after for our analysis is a list of all the galaxies (not stars and not quasars) including redshift and their brightness (or apparent magnitude).\n",
        "\n",
        "Here is what we are grabbing from the database\n",
        "* Object ID\n",
        "* Right Ascension and Declination\n",
        "* Apparent Magnitude\n",
        "* Redshift"
      ]
    },
    {
      "cell_type": "markdown",
      "metadata": {
        "id": "Dbs2Vvi_7qjv"
      },
      "source": [
        "### Accessing the data"
      ]
    },
    {
      "cell_type": "markdown",
      "metadata": {
        "id": "WhqpWyI--uDd"
      },
      "source": [
        "Here is the Structured Query Language (SQL) query if you want to experiment:\n",
        "<pre> SELECT TOP 1000 objid, ra, dec, modelMag_i AS app_mag , z\n",
        "   from SpecPhoto WHERE (class = 'GALAXY' AND plate = '7045')</pre>\n",
        "\n",
        "This is a database query to retrieve *at most* 1000 objects from this plate. Most plates don't have this many objects but it is a way to limit the results just in case.\n",
        "\n",
        "The SpecPhoto table from the SDSS database combines together the photometric data (brightness and stuff) and the spectroscopic data ([individual spectra](https://www.sdss.org/dr12/spectro/)).\n",
        "\n",
        "<img src=\"https://www.sdss.org/wp-content/uploads/2014/11/faceplat2.jpg\" width=200 />\n",
        "\n",
        "The brightness data we are using is the [model magnitude](https://www.sdss.org/dr12/algorithms/magnitudes/#mag_model) for the galaxy and is just from one filter, the `i` filter from the [`ugriz`](https://www.sdss.org/instruments/camera/#Filters) filter set.\n",
        "\n",
        "<img src=\"https://skyserver.sdss.org/dr12/en/get/SpecById.ashx?id=7931990242818191360\" width=300 />\n",
        "\n",
        "Note that we rename the model magnitude to `app_mag` to be our apparent magnitude value. The redshift, `z` is the other datapoint we need. Lastly, we limit the class of objects to return. In this case we want only galaxies."
      ]
    },
    {
      "cell_type": "code",
      "metadata": {
        "id": "m3s60mkFuTOR"
      },
      "source": [
        "# Build the query first\n",
        "query = \"SELECT TOP 1000 objid, ra, dec, modelMag_i AS app_mag , z from SpecPhoto WHERE (class = 'GALAXY' AND plate = '7045')\"\n",
        "\n",
        "# Run the query and store the results\n",
        "result = SDSS.query_sql(query, data_release=16)"
      ],
      "execution_count": null,
      "outputs": []
    },
    {
      "cell_type": "markdown",
      "metadata": {
        "id": "cI_AGeJ--w3H"
      },
      "source": [
        "## AstroPy and pandas"
      ]
    },
    {
      "cell_type": "markdown",
      "metadata": {
        "id": "8lQ2NQI--7Z0"
      },
      "source": [
        "Let's convert this large chunk of data to something data scientists call a dataframe. We are using the `pandas` data science tool. The `data.head()` line displays the first few rows of the dataframe. It looks a lot like a spreadsheet."
      ]
    },
    {
      "cell_type": "code",
      "metadata": {
        "id": "sGd03JI5uTOb"
      },
      "source": [
        "# Convert our AstroPy data into pandas\n",
        "data = result.to_pandas()\n",
        "\n",
        "# Take a look at the first 5 rows\n",
        "data.head()"
      ],
      "execution_count": null,
      "outputs": []
    },
    {
      "cell_type": "markdown",
      "metadata": {
        "id": "TgmgzX0f_daM"
      },
      "source": [
        "## Plotting the data: app_mag vs z"
      ]
    },
    {
      "cell_type": "markdown",
      "metadata": {
        "id": "7XdgNJOAHZok"
      },
      "source": [
        "##Question 1\n",
        "**Double click here to answer. How does the apparent magnitude of a galaxy act as a way measure distances to galaxies? Must we make any assumptions for the relationship to make sense? (Hint: [what is the inverse square law?](https://openstax.org/books/astronomy/pages/5-1-the-behavior-of-light#OSC_Astro_05_01_Invlight))**\n",
        "\n",
        "Answer:"
      ]
    },
    {
      "cell_type": "markdown",
      "metadata": {
        "id": "eoLSQCsBHgaW"
      },
      "source": [
        "## Question 2\n",
        "**Double click here to answer. Which of our data variables, app_mag or z, makes the most sense as the independent variable? One variable came from a camera (the magnitude). The other came from measuring the shift in the spectrum.**\n",
        "\n",
        "Answer:"
      ]
    },
    {
      "cell_type": "markdown",
      "metadata": {
        "id": "5OJauMBmCI2L"
      },
      "source": [
        "### Independent vs dependent\n",
        "First lets just plot the data and see what we get. Typically we plot the dependent variable along the y-axis and the independent variable along the x-axis."
      ]
    },
    {
      "cell_type": "code",
      "metadata": {
        "id": "0MtIldS2_6hV"
      },
      "source": [
        "# Perform a scatter plot\n",
        "\n",
        "# What should we put along the x and y axes?\n",
        "# Choose the data axes like this (except use real column names):\n",
        "# x = data['ColForX'] and y = data['ColForY']\n",
        "x = data['app_mag']\n",
        "y = data['z']\n",
        "\n",
        "# The plt object plots our data.\n",
        "# Here we want a scatter plot.\n",
        "# Whatever list you put 1st is x, and the 2nd is y.\n",
        "plt.scatter(x,y)\n",
        "\n",
        "# Change these to something useful\n",
        "plt.xlabel('Apparent mag')\n",
        "plt.ylabel('Redshift')\n",
        "\n",
        "# Display our plot.\n",
        "plt.show()"
      ],
      "execution_count": null,
      "outputs": []
    },
    {
      "cell_type": "markdown",
      "metadata": {
        "id": "Q85fWfq7COfE"
      },
      "source": [
        "##Question 3\n",
        "**Double click here to answer. What do you notice and what do you wonder about our plot? Is there a linear relationship between x and y? Is there more than one group here? Can you identify any outliers?**\n",
        "\n",
        "Answer:"
      ]
    },
    {
      "cell_type": "markdown",
      "metadata": {
        "id": "1yavZc-mGMk5"
      },
      "source": [
        "### Redshift as speed"
      ]
    },
    {
      "cell_type": "markdown",
      "metadata": {
        "id": "o98dK6RoQYhr"
      },
      "source": [
        "George Lemaitre had predicted the expanding universe before anyone had real data to prove it. Edwin Hubble showed the earlier ideas about the universe expanding were true. He discovered that the amount of redshift of a galaxy seemed to depend on the distance that galaxy is from us. We are going to explore this exact relationship with our data.\n",
        "\n",
        "<img src=\"https://openstax.org/apps/archive/20231109.173216/resources/7f27f064e23d86aa9968b4ef8642cbe37194697e\" width=75% />\n",
        "\n",
        "[Check out more about Hubble and his colleagues Humason and Lemaitre](https://openstax.org/books/astronomy-2e/pages/26-5-the-expanding-universe)"
      ]
    },
    {
      "cell_type": "markdown",
      "metadata": {
        "id": "h9HV5CUoHXYk"
      },
      "source": [
        "##Question 4\n",
        "**Double click here to answer. In your own words, what does redshift mean for a galaxy? How is the measured redshift related to 'speed'? (Hint: [what is Hubble's law?](https://openstax.org/books/astronomy/pages/26-5-the-expanding-universe#OSC_Astro_26_05_HLaw))**\n",
        "\n",
        "Answer:"
      ]
    },
    {
      "cell_type": "markdown",
      "metadata": {
        "id": "GDH7ESMJ_rW3"
      },
      "source": [
        "## Linear Regression: app_mag vs z"
      ]
    },
    {
      "cell_type": "markdown",
      "metadata": {
        "id": "UBmwv0o7_wSg"
      },
      "source": [
        "Next let's plot the data but let's use a linear regression tool to see if the 2 variables have a linear relationship. Use the same columns for x and y you used before. A linear regression is a way to test how closely one variable varies with respect to another."
      ]
    },
    {
      "cell_type": "code",
      "metadata": {
        "id": "-dx-ZYiiuTOh"
      },
      "source": [
        "# What should we put along the x and y axes?\n",
        "x = data['app_mag']\n",
        "y = data['z']\n",
        "\n",
        "# Run the linear regression on our data and plot it.\n",
        "sns.regplot(x = x, y = y)\n",
        "\n",
        "# Note that the regplot function chooses the axes names for you\n",
        "\n",
        "plt.show()"
      ],
      "execution_count": null,
      "outputs": []
    },
    {
      "cell_type": "markdown",
      "metadata": {
        "id": "dkphEHcpEcEQ"
      },
      "source": [
        "##Question 5\n",
        "**Double click here to answer. What do you notice and what do you wonder about our NEW plot? Is there a linear relationship between x and y? Is there more than one population here? Can you identify any outliers? What is the significance of the lighter colored area around the line?**\n",
        "\n",
        "Answer:\n"
      ]
    },
    {
      "cell_type": "markdown",
      "metadata": {
        "id": "vAWWHf8CE0CW"
      },
      "source": [
        "## Magnitude, Luminosity, and Flux"
      ]
    },
    {
      "cell_type": "markdown",
      "metadata": {
        "id": "jNHKiQLXJGR7"
      },
      "source": [
        "The data we have is the [apparent magnitude](https://openstax.org/books/astronomy/pages/17-1-the-brightness-of-stars) for our galaxies. We need to convert our apparent magnitude into a flux value. The relationship between [magnitude and flux is exponential](https://openstax.org/books/astronomy/pages/17-1-the-brightness-of-stars#OSC_Astro_17_01_Apparent). Hipparchus in 150 BCE didn't know about that relationship when he created the magnitude scale. Since we still use the old magnitude scale but now we know how the system works, we can convert from magnitude to flux using:\n",
        "\n",
        "$$F = 2.5^{-m}$$\n",
        "\n",
        "Where `m` is our apparent magnitude data, and `F` is the flux. And we know from the inverse square law that flux (or luminosity) is proportional the inverse square of distance.\n",
        "\n",
        "$$F \\propto {1 \\over d^2}$$\n",
        "\n",
        "So if solve for d we get:\n",
        "\n",
        "$$d\\propto {1 \\over \\sqrt{F}} $$"
      ]
    },
    {
      "cell_type": "markdown",
      "metadata": {
        "id": "s7Lz0w7Bzs0v"
      },
      "source": [
        "##Convert apparent magnitude to flux\n",
        "**Python HOWTO - exponents:** the equation $y=x^{-2}$  would be `y = x**-2` in Python."
      ]
    },
    {
      "cell_type": "code",
      "metadata": {
        "id": "9UfEwym6uTOq"
      },
      "source": [
        "# Set m equal to the apparent magnitude.\n",
        "m = data['app_mag']\n",
        "\n",
        "# Raise 2.5 to the -m power\n",
        "flux = 2.5**-m"
      ],
      "execution_count": null,
      "outputs": []
    },
    {
      "cell_type": "markdown",
      "metadata": {
        "id": "iPszDWmgE_wm"
      },
      "source": [
        "**Python HOWTO - square roots:** the equation $y=\\sqrt{x}$ would be `y = np.sqrt(x)`"
      ]
    },
    {
      "cell_type": "code",
      "metadata": {
        "id": "kENnjqgGuTO4"
      },
      "source": [
        "# Use the inverse square relationship to get relative distance.\n",
        "\n",
        "# np.sqrt finds the square root of number\n",
        "rel_dist = 1/np.sqrt(flux)"
      ],
      "execution_count": null,
      "outputs": []
    },
    {
      "cell_type": "markdown",
      "metadata": {
        "id": "qkFtwpppFNql"
      },
      "source": [
        "**Python HOWTO - find the max:** to find the max value in a list of items, do this: `largest = my_list.max()`"
      ]
    },
    {
      "cell_type": "code",
      "metadata": {
        "id": "A8tmRysvuTO_"
      },
      "source": [
        "# Let's 'normalize' our relative distances.\n",
        "# Based on our farthest galaxy, what's the relative dist. to the others?\n",
        "farthest = rel_dist.max()\n",
        "\n",
        "# Divide our list of relative distances by our farthest distance\n",
        "rel_dist = rel_dist/farthest"
      ],
      "execution_count": null,
      "outputs": []
    },
    {
      "cell_type": "code",
      "metadata": {
        "id": "RR53nYkEuTPU"
      },
      "source": [
        "# Add in the relative distance to our data cube.\n",
        "data = data.assign(rel_dist=rel_dist)"
      ],
      "execution_count": null,
      "outputs": []
    },
    {
      "cell_type": "markdown",
      "metadata": {
        "id": "mVL2f2CPFtAa"
      },
      "source": [
        "### Plot app_mag vs z and rel_dist vs z"
      ]
    },
    {
      "cell_type": "code",
      "metadata": {
        "id": "fPIJ9JekHxlx"
      },
      "source": [
        "# Following the examples above, display a scatter plot rel_dist vs z\n",
        "\n",
        "x = data['rel_dist']\n",
        "y = data['z']\n",
        "\n",
        "plt.scatter(x,y)\n",
        "\n",
        "# Change these to something useful\n",
        "plt.xlabel('Relative Distance')\n",
        "plt.ylabel('Redshift')\n",
        "\n",
        "# Display our plot.\n",
        "plt.show()"
      ],
      "execution_count": null,
      "outputs": []
    },
    {
      "cell_type": "code",
      "metadata": {
        "id": "UKDq0giNyGra"
      },
      "source": [
        "# Following the examples above, plot a linear regression\n",
        "# of rel_dist and z\n",
        "x = data['rel_dist']\n",
        "y = data['z']\n",
        "\n",
        "sns.regplot(x=x,y=y)\n",
        "\n",
        "plt.show()"
      ],
      "execution_count": null,
      "outputs": []
    },
    {
      "cell_type": "markdown",
      "metadata": {
        "id": "blgCjykpPD5P"
      },
      "source": [
        "## Histogram of distances\n",
        "\n",
        "**Python HOWTO:** Make a histogram with MatPlotLib. 'plt.hist(values, bins)`"
      ]
    },
    {
      "cell_type": "code",
      "metadata": {
        "id": "1GNuCDSgM5tR"
      },
      "source": [
        "# Make the x variable our distribution of relative distances\n",
        "x = data['rel_dist']\n",
        "\n",
        "# Plot a histogram with equally spaced bins\n",
        "bins = 34     # try different numbers of bins\n",
        "plt.hist(x, bins)\n",
        "\n",
        "plt.show()"
      ],
      "execution_count": null,
      "outputs": []
    },
    {
      "cell_type": "markdown",
      "metadata": {
        "id": "vwR2GTiDPJr7"
      },
      "source": [
        "## Question 6\n",
        "**Double click here to answer. What does the histogram say about the variation in the relative distances? Are most galaxies close or far? What does the skew direction say about our population of galaxies?**\n",
        "\n",
        "Answer:"
      ]
    },
    {
      "cell_type": "markdown",
      "metadata": {
        "id": "alpZXOkpOGx3"
      },
      "source": [
        "## Eliminate outliers"
      ]
    },
    {
      "cell_type": "markdown",
      "metadata": {
        "id": "ntuhkigYOKZV"
      },
      "source": [
        "If we think that the data we have should follow a bell curve then data way off the curve can skew our results. There might be some reason for the relationship breaking down for some galaxies besides our claim being wrong."
      ]
    },
    {
      "cell_type": "code",
      "metadata": {
        "id": "HEZnVpYCdEsH"
      },
      "source": [
        "# Remove outliers and make a new dataframe\n",
        "newdata = data[(np.abs(stats.zscore(data)) < 3).all(axis=1)]\n",
        "\n",
        "# Technically we removed all data not following a Gaussian distribution beyond\n",
        "# 4 standard deviations from the mean of the data.\n",
        "\n",
        "# Plot the linear regression of the new dataframe\n",
        "x = newdata['rel_dist']\n",
        "y = newdata['z']\n",
        "sns.regplot(data=newdata, x=x, y=y)\n",
        "\n",
        "\n",
        "plt.show()"
      ],
      "execution_count": null,
      "outputs": []
    },
    {
      "cell_type": "markdown",
      "metadata": {
        "id": "fkbIsv92OeIq"
      },
      "source": [
        "##Question 7\n",
        "**Double click here to answer. Now that some of the outliers have been removed and we again plot the linear regression of our data, what do you notice and what do you wonder? Why might some of the galaxies that are outliers not follow the relationship of apparent brightness to distance or recession speed? Should we eliminate the outliers here or leave them in? Justify your answer.**\n",
        "\n",
        "Answer:\n"
      ]
    },
    {
      "cell_type": "code",
      "metadata": {
        "id": "fOCBHXTSOCMP"
      },
      "source": [
        "x = newdata['rel_dist']\n",
        "\n",
        "plt.hist(x,17)\n",
        "plt.show()"
      ],
      "execution_count": null,
      "outputs": []
    },
    {
      "cell_type": "markdown",
      "metadata": {
        "id": "lBPwp4otS6yd"
      },
      "source": [
        "## Question 8\n",
        "**Double click here to answer. How does the 2nd histogram support or not support our decision to remove the outliers? Does the distribution now follow the Gaussian bell curve? What does this distribution of galaxies say about our dataset with the outliers removed?**\n",
        "\n",
        "Answer:"
      ]
    },
    {
      "cell_type": "markdown",
      "metadata": {
        "id": "foX6qGAZMFoJ"
      },
      "source": [
        "# Sky Chart - Plot the galaxies in the sky\n",
        "\n",
        "Produce a scatter plot with the x-axis set to the right ascension values and the y-axis set to the declination values. This is where in the field of view of the telscope these galaxies were located."
      ]
    },
    {
      "cell_type": "code",
      "metadata": {
        "id": "3YKnl_klaCAE"
      },
      "source": [
        "x = data['ra']\n",
        "y = data['dec']\n",
        "\n",
        "plt.scatter(x,y)\n",
        "\n",
        "plt.xlabel('Right Ascension (deg)')\n",
        "plt.ylabel('Declination (deg)')\n",
        "\n",
        "plt.show()"
      ],
      "execution_count": null,
      "outputs": []
    },
    {
      "cell_type": "markdown",
      "metadata": {
        "id": "XYrjL2X-aYxX"
      },
      "source": [
        "## Sky Chart with size and color\n",
        "Here we plot the galaxies with the color and size of the dot based on the relative distance we calculated. This is a clever bit of data visualization that helps bring a sort of 3rd dimension to our data."
      ]
    },
    {
      "cell_type": "markdown",
      "metadata": {
        "id": "d3wxDsKRIPoG"
      },
      "source": [
        "We want the closest galaxies to appear larger and darker as farther galaxies shrink and fade out. use `x.max()` and `x.min()` to check the largest and smallest values for `newdata['rel_dist']`"
      ]
    },
    {
      "cell_type": "code",
      "metadata": {
        "id": "0eRabH6RYks-"
      },
      "source": [
        "print(newdata['rel_dist'].max(), newdata['rel_dist'].min())"
      ],
      "execution_count": null,
      "outputs": []
    },
    {
      "cell_type": "markdown",
      "metadata": {
        "id": "UySuUTSGY9-u"
      },
      "source": [
        "Invert the \"sense\" of the data so the nearest galaxies have the largest index and the farthest have the smallest."
      ]
    },
    {
      "cell_type": "code",
      "metadata": {
        "id": "UvJAJxvaZFPi"
      },
      "source": [
        "inv_dist = 1-newdata['rel_dist']"
      ],
      "execution_count": null,
      "outputs": []
    },
    {
      "cell_type": "markdown",
      "metadata": {
        "id": "x3C7ha0aZIGt"
      },
      "source": [
        "Check the new largest and smallest values with `x.max()` and `x.min()`"
      ]
    },
    {
      "cell_type": "code",
      "metadata": {
        "id": "ZTnMEIpTZQ24"
      },
      "source": [
        "print(inv_dist.max(), inv_dist.min())"
      ],
      "execution_count": null,
      "outputs": []
    },
    {
      "cell_type": "markdown",
      "metadata": {
        "id": "fDKpf0BKZZdK"
      },
      "source": [
        "Now plot ra vs. dec and show relative distances with size and color (hue)."
      ]
    },
    {
      "cell_type": "code",
      "metadata": {
        "id": "fg3hApu7ZUe2"
      },
      "source": [
        "sns.relplot(x='ra', y='dec', hue=inv_dist, size=inv_dist, palette='Blues',\n",
        "            data=newdata, height=8, sizes=(45,100))\n",
        "\n",
        "plt.show()"
      ],
      "execution_count": null,
      "outputs": []
    },
    {
      "cell_type": "markdown",
      "metadata": {
        "id": "KNhVhr6riHd_"
      },
      "source": [
        "## Question 9\n",
        "**Double click here to answer. Using the new sky chart, can any pattern for the distribution of close and far galaxies be seen in the sky?**\n",
        "\n",
        "Answer:"
      ]
    }
  ]
}