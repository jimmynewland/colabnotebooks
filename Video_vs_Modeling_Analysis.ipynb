{
  "nbformat": 4,
  "nbformat_minor": 0,
  "metadata": {
    "colab": {
      "provenance": [],
      "authorship_tag": "ABX9TyOECsSEAvIp+p0Tx4yxnOPy",
      "include_colab_link": true
    },
    "kernelspec": {
      "name": "python3",
      "display_name": "Python 3"
    },
    "language_info": {
      "name": "python"
    }
  },
  "cells": [
    {
      "cell_type": "markdown",
      "metadata": {
        "id": "view-in-github",
        "colab_type": "text"
      },
      "source": [
        "<a href=\"https://colab.research.google.com/github/jimmynewland/colabnotebooks/blob/main/Video_vs_Modeling_Analysis.ipynb\" target=\"_parent\"><img src=\"https://colab.research.google.com/assets/colab-badge.svg\" alt=\"Open In Colab\"/></a>"
      ]
    },
    {
      "cell_type": "markdown",
      "metadata": {
        "id": "m68ActKy3jnC"
      },
      "source": [
        "#Air Drag Analysis Video vs Modeling\n",
        "\n"
      ]
    },
    {
      "cell_type": "markdown",
      "source": [
        "##Turbulent vs Laminar Flow\n"
      ],
      "metadata": {
        "id": "l8iDgWfzvcj0"
      }
    },
    {
      "cell_type": "markdown",
      "metadata": {
        "id": "sMazSnR8aUr4"
      },
      "source": [
        "Flows can be modeled as laminar or turbulent. A more general treatment of air drag might be better described by the following (Wijaya et al., 2019):\n",
        "\n",
        "$$F_d = bv^n$$\n",
        "\n",
        "Where $n = 1$ for a laminar flow and $n = 2$ for turbulent flow.\n",
        "<br /><br />\n",
        "Laminar: $F_D=bv$\n",
        "<br/>\n",
        "Turbulent: $F_D=bv^2$\n",
        "<br /><br />The drag coefficient, $b$, is a dimensionless quantity dependent on the fluid properties and the object geometry.<br />\n"
      ]
    },
    {
      "cell_type": "markdown",
      "metadata": {
        "id": "g0RgAekEIXFJ"
      },
      "source": [
        "##Data Reduction"
      ]
    },
    {
      "cell_type": "markdown",
      "metadata": {
        "id": "84Wx8e402DPd"
      },
      "source": [
        "You should open this [spreadsheet](https://docs.google.com/spreadsheets/d/1aj-MNMfqGmhXU1CFhDszNXTjiUfsYkYj5hv35yWJ2LA/edit?usp=sharing) and **make a copy** to hold your data. This spreadsheet is read only and you will need your own copy for your own data for the next part.\n",
        "\n",
        "You will include both the data from the video analysis and from the modeling output. There are two tabs in the spreadsheet, one for each dataset.\n",
        "\n",
        "This first chunk of code imports any needed packages from Python. These are common for data science and data visualization.\n",
        "\n",
        "Don't forget to run this block of code to load all the packages we need.\n"
      ]
    },
    {
      "cell_type": "code",
      "metadata": {
        "id": "HebCCunhr89T"
      },
      "source": [
        "# NumPy makes math on big datasets fast in Python.\n",
        "import numpy as np\n",
        "\n",
        "# pandas has become a common data science tool in Python.\n",
        "import pandas as pd\n",
        "\n",
        "# MatPlotLib is basis for many, but not all, data visualization packages.\n",
        "import matplotlib.pyplot as plt\n",
        "import matplotlib.gridspec as gridspec\n",
        "\n",
        "# SciPy contains many scientific data reduction packages and algorithms.\n",
        "# Here we are using it for statistics.\n",
        "from scipy import stats\n",
        "from scipy import optimize\n",
        "from scipy.optimize import curve_fit\n",
        "\n",
        "# This is just about how the plots will look.\n",
        "plt.style.use('seaborn-talk')"
      ],
      "execution_count": null,
      "outputs": []
    },
    {
      "cell_type": "markdown",
      "metadata": {
        "id": "wE9gF0btwbS5"
      },
      "source": [
        "##Importing Data from Spreadsheet Into Python"
      ]
    },
    {
      "cell_type": "markdown",
      "metadata": {
        "id": "5PnW_t7Ywgyx"
      },
      "source": [
        "The Google Colab API allows direct access to Google Spreadsheet documents for data importing. You will need the data to be in a valid Google Sheet using a valid Google account."
      ]
    },
    {
      "cell_type": "code",
      "metadata": {
        "id": "lzZNc5GRsZsm"
      },
      "source": [
        "# Allow for access to Google Sheets dataset\n",
        "from google.colab import auth\n",
        "auth.authenticate_user()\n",
        "\n",
        "import gspread\n",
        "from google.auth import default\n",
        "creds, _ = default()\n",
        "\n",
        "gc = gspread.authorize(creds)\n",
        "wb = gc.open_by_url('PUT_YOUR_URL_HERE')"
      ],
      "execution_count": null,
      "outputs": []
    },
    {
      "cell_type": "markdown",
      "metadata": {
        "id": "lZWHKbVUwt8q"
      },
      "source": [
        "##Converting data into pandas Dataframe"
      ]
    },
    {
      "cell_type": "markdown",
      "metadata": {
        "id": "Z2LQZlr7wzw5"
      },
      "source": [
        "If we convert this data into a Pandas dataframe, the analysis is easier and we can use well-known practices for our analysis."
      ]
    },
    {
      "cell_type": "code",
      "metadata": {
        "id": "L6I4X7Vr3otq"
      },
      "source": [
        "# Create 2 dataframes from our datasets\n",
        "video_ws = wb.worksheet('video')\n",
        "video_data = np.array(video_ws.get_all_values())\n",
        "video = pd.DataFrame(video_data[1:], columns = video_data[0])\n",
        "\n",
        "model_ws = wb.worksheet('model')\n",
        "model_data = np.array(model_ws.get_all_values())\n",
        "model = pd.DataFrame(model_data[1:], columns = model_data[0])"
      ],
      "execution_count": null,
      "outputs": []
    },
    {
      "cell_type": "code",
      "metadata": {
        "id": "nmiFR7zOIU7P"
      },
      "source": [
        "# Kludgy conversion of data from string data to floating point data\n",
        "video['t']  = pd.to_numeric(video['t'],  downcast='float')\n",
        "video['y1'] = pd.to_numeric(video['y1'], downcast='float')\n",
        "video['y2'] = pd.to_numeric(video['y2'], downcast='float')\n",
        "video['y3'] = pd.to_numeric(video['y3'], downcast='float')\n",
        "video['y4'] = pd.to_numeric(video['y4'], downcast='float')\n",
        "video['y5'] = pd.to_numeric(video['y5'], downcast='float')\n",
        "video['y6'] = pd.to_numeric(video['y6'], downcast='float')\n",
        "model['t']  = pd.to_numeric(model['t'],  downcast='float')\n",
        "model['y1'] = pd.to_numeric(model['y1'], downcast='float')\n",
        "model['y2'] = pd.to_numeric(model['y2'], downcast='float')\n",
        "model['y3'] = pd.to_numeric(model['y3'], downcast='float')\n",
        "model['y4'] = pd.to_numeric(model['y4'], downcast='float')\n",
        "model['y5'] = pd.to_numeric(model['y5'], downcast='float')\n",
        "model['y6'] = pd.to_numeric(model['y6'], downcast='float')"
      ],
      "execution_count": null,
      "outputs": []
    },
    {
      "cell_type": "code",
      "source": [
        "# Make +y in the down direction for the model data\n",
        "model['y1'] = -model['y1']\n",
        "model['y2'] = -model['y2']\n",
        "model['y3'] = -model['y3']\n",
        "model['y4'] = -model['y4']\n",
        "model['y5'] = -model['y5']\n",
        "model['y6'] = -model['y6']"
      ],
      "metadata": {
        "id": "-gQgGpJmigpv"
      },
      "execution_count": null,
      "outputs": []
    },
    {
      "cell_type": "markdown",
      "metadata": {
        "id": "IZt6OAKq8QOO"
      },
      "source": [
        "##Comparing Drag Behaviors"
      ]
    },
    {
      "cell_type": "code",
      "metadata": {
        "id": "-s52CU-vdKgK"
      },
      "source": [
        "fig, (ax1, ax2) = plt.subplots(1, 2)\n",
        "fig.set_size_inches(14,4)\n",
        "\n",
        "ax1.set_title('Video Drag')\n",
        "ax1.set_xlabel('t (s)')\n",
        "ax1.set_ylabel('y (m)')\n",
        "ax1.scatter(video['t'], video['y1'], label='y1')\n",
        "ax1.scatter(video['t'], video['y2'], label='y2')\n",
        "ax1.scatter(video['t'], video['y3'], label='y3')\n",
        "ax1.scatter(video['t'], video['y4'], label='y4')\n",
        "ax1.scatter(video['t'], video['y5'], label='y5')\n",
        "ax1.scatter(video['t'], video['y6'], label='y6')\n",
        "ax1.legend()\n",
        "\n",
        "ax2.set_title('Model Drag')\n",
        "ax2.set_xlabel('t (s)')\n",
        "ax2.set_ylabel('y (m)')\n",
        "ax2.scatter(model['t'], model['y1'], label='y1')\n",
        "ax2.scatter(model['t'], model['y2'], label='y2')\n",
        "ax2.scatter(model['t'], model['y3'], label='y2')\n",
        "ax2.scatter(model['t'], model['y4'], label='y3')\n",
        "ax2.scatter(model['t'], model['y5'], label='y5')\n",
        "ax2.scatter(model['t'], model['y6'], label='y6')\n",
        "ax2.legend()\n",
        "\n",
        "plt.show()"
      ],
      "execution_count": null,
      "outputs": []
    },
    {
      "cell_type": "code",
      "source": [
        "fig, (ax1, ax2) = plt.subplots(1, 2)\n",
        "fig.set_size_inches(14,4)\n",
        "\n",
        "ax1.set_title('Video Drag')\n",
        "ax1.set_xlabel('t (s)')\n",
        "ax1.set_ylabel('y (m)')\n",
        "ax1.scatter(video['t'], video['y1'], label='y1')\n",
        "ax1.scatter(video['t'], video['y2'], label='y2')\n",
        "ax1.scatter(video['t'], video['y3'], label='y3')\n",
        "ax1.scatter(video['t'], video['y4'], label='y4')\n",
        "ax1.scatter(video['t'], video['y5'], label='y5')\n",
        "ax1.scatter(video['t'], video['y6'], label='y6')\n",
        "ax1.legend()\n",
        "\n",
        "ax2.set_title('Model Drag')\n",
        "ax2.set_xlabel('t (s)')\n",
        "ax2.set_ylabel('y (m)')\n",
        "ax2.scatter(model['t'], model['y1'], label='y1')\n",
        "ax2.scatter(model['t'], model['y2'], label='y2')\n",
        "ax2.scatter(model['t'], model['y3'], label='y2')\n",
        "ax2.scatter(model['t'], model['y4'], label='y3')\n",
        "ax2.scatter(model['t'], model['y5'], label='y5')\n",
        "ax2.scatter(model['t'], model['y6'], label='y6')\n",
        "ax2.legend()\n",
        "\n",
        "plt.show()"
      ],
      "metadata": {
        "id": "WWO3LYM_ifE_"
      },
      "execution_count": null,
      "outputs": []
    },
    {
      "cell_type": "markdown",
      "metadata": {
        "id": "IiTV94uj3-v5"
      },
      "source": [
        "##Terminal Velocities"
      ]
    },
    {
      "cell_type": "markdown",
      "source": [
        "Let's use some standard data science tools to find the terminal velocities for each object.\n",
        "\n",
        "Here we are using a linear regression to fit a line to the end of each position versus time plot. The slope of that line will be the terminal velocity, $v_T$."
      ],
      "metadata": {
        "id": "Ho4aVOIjc9G7"
      }
    },
    {
      "cell_type": "code",
      "metadata": {
        "id": "lb-QqKBdrGeQ"
      },
      "source": [
        "t1 = video['t'][4:8]\n",
        "vt_v = np.zeros(6)\n",
        "\n",
        "y = video['y1'][4:8]\n",
        "slope, intercept, r_value, p_value, std_err = stats.linregress(t1, y)\n",
        "vt_v[0] = slope\n",
        "\n",
        "y = video['y2'][4:8]\n",
        "slope, intercept, r_value, p_value, std_err = stats.linregress(t1, y)\n",
        "vt_v[1] = slope\n",
        "\n",
        "y = video['y3'][4:8]\n",
        "slope, intercept, r_value, p_value, std_err = stats.linregress(t1, y)\n",
        "vt_v[2] = slope\n",
        "\n",
        "y = video['y4'][4:8]\n",
        "slope, intercept, r_value, p_value, std_err = stats.linregress(t1, y)\n",
        "vt_v[3] = slope\n",
        "\n",
        "y = video['y5'][4:8]\n",
        "slope, intercept, r_value, p_value, std_err = stats.linregress(t1, y)\n",
        "vt_v[4] = slope\n",
        "\n",
        "y = video['y6'][4:8]\n",
        "slope, intercept, r_value, p_value, std_err = stats.linregress(t1, y)\n",
        "vt_v[5] = slope"
      ],
      "execution_count": null,
      "outputs": []
    },
    {
      "cell_type": "code",
      "source": [
        "vt_m = np.zeros(6)\n",
        "t2 = model['t'][30:39]\n",
        "\n",
        "y = model['y1'][30:39]\n",
        "slope, intercept, r_value, p_value, std_err = stats.linregress(t2, y)\n",
        "vt_m[0] = slope\n",
        "\n",
        "y = model['y2'][30:39]\n",
        "slope, intercept, r_value, p_value, std_err = stats.linregress(t2, y)\n",
        "vt_m[1] = slope\n",
        "\n",
        "y = model['y3'][30:39]\n",
        "slope, intercept, r_value, p_value, std_err = stats.linregress(t2, y)\n",
        "vt_m[2] = slope\n",
        "\n",
        "y = model['y4'][30:39]\n",
        "slope, intercept, r_value, p_value, std_err = stats.linregress(t2, y)\n",
        "vt_m[3] = slope\n",
        "\n",
        "y = model['y5'][30:39]\n",
        "slope, intercept, r_value, p_value, std_err = stats.linregress(t2, y)\n",
        "vt_m[4] = slope\n",
        "\n",
        "y = model['y6'][30:39]\n",
        "slope, intercept, r_value, p_value, std_err = stats.linregress(t2, y)\n",
        "vt_m[5] = slope"
      ],
      "metadata": {
        "id": "B5bhOeXUd3eK"
      },
      "execution_count": null,
      "outputs": []
    },
    {
      "cell_type": "code",
      "source": [
        "import math\n",
        "m = np.arange(1,7)\n",
        "\n",
        "log_mg = np.log(m*9.81)\n",
        "log_vt_v = np.log(vt_v)\n",
        "log_vt_m = np.log(vt_m)\n",
        "\n",
        "# Regression. If the slope is 2, then flow was turbulent, if 1 then laminar.\n",
        "slope1, intercept1, r_value1, p_value1, std_err1 = stats.linregress(log_vt_v, log_mg)\n",
        "slope2, intercept2, r_value2, p_value2, std_err2 = stats.linregress(log_vt_m, log_mg)\n"
      ],
      "metadata": {
        "id": "Hu3r8ZeSgB0l"
      },
      "execution_count": null,
      "outputs": []
    },
    {
      "cell_type": "code",
      "source": [
        "fig, (ax1, ax2) = plt.subplots(1, 2)\n",
        "fig.set_size_inches(14,4)\n",
        "\n",
        "ax1.set_title('Video Data')\n",
        "ax1.set_xlabel('$log(v_T)$')\n",
        "ax1.set_ylabel('$log(mg)$')\n",
        "ax1.scatter(log_vt_v, log_mg)\n",
        "slope_label1 = np.round(slope1,2)\n",
        "ax1.plot(log_vt_v, intercept1 + slope1*log_vt_v, '--', label=slope_label1)\n",
        "ax1.legend()\n",
        "\n",
        "ax2.set_title('Model Data')\n",
        "ax2.set_xlabel('$log(v_T)$')\n",
        "ax2.set_ylabel('$log(mg)$')\n",
        "ax2.scatter(log_vt_m, log_mg)\n",
        "slope_label2 = np.round(slope2,2)\n",
        "ax2.plot(log_vt_m, intercept2 + slope2*log_vt_m, '--', label=slope_label2)\n",
        "ax2.legend()\n",
        "\n",
        "plt.show()"
      ],
      "metadata": {
        "id": "CLjMNhQ_fDR3"
      },
      "execution_count": null,
      "outputs": []
    },
    {
      "cell_type": "markdown",
      "metadata": {
        "id": "fxo-JWxf_tMy"
      },
      "source": [
        "#Conclusions\n",
        "Double click each question and type in an answer."
      ]
    },
    {
      "cell_type": "markdown",
      "source": [
        "##Who are you?\n",
        "Put your name(s) and period(s) here."
      ],
      "metadata": {
        "id": "tiAFE7Ywmtez"
      }
    },
    {
      "cell_type": "markdown",
      "source": [
        "##Question 1\n",
        "What was the approximate slope for your video data?\n"
      ],
      "metadata": {
        "id": "mwCaZ_Q7x5u7"
      }
    },
    {
      "cell_type": "markdown",
      "source": [
        "##Question 2\n",
        "What was the approximate slope for your model data?"
      ],
      "metadata": {
        "id": "Y-82syiglglB"
      }
    },
    {
      "cell_type": "markdown",
      "source": [
        "##Question 3\n",
        "Using the slope for each dataset, make a claim about whether or not the air flow for that dataset was turbulent or laminar."
      ],
      "metadata": {
        "id": "2H_fliY9lrla"
      }
    },
    {
      "cell_type": "markdown",
      "source": [
        "##Question 4\n",
        "Why did the 2 datasets look turbulent or laminar? Why were they the same or different?"
      ],
      "metadata": {
        "id": "Q71S1EKfl4fH"
      }
    },
    {
      "cell_type": "markdown",
      "source": [
        "##Question 5\n",
        "What changes to the model could be made to change it from one sort of flow model to the other?"
      ],
      "metadata": {
        "id": "0l9P1LH6mFGr"
      }
    },
    {
      "cell_type": "markdown",
      "source": [
        "Don't forget to submit a copy of your final workbook."
      ],
      "metadata": {
        "id": "Ye3WAyprmkDg"
      }
    }
  ]
}